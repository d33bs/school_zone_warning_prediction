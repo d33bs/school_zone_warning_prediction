{
 "cells": [
  {
   "cell_type": "markdown",
   "metadata": {},
   "source": [
    "# Aerial-level Analysis - Schools\n",
    "\n",
    "Part of the iRAP road star rating system includes two attributes for school zones - one for signage/lights for school zones and another for crossing supervisors.\n",
    "\n",
    "For school signage/lights we can:\n",
    "\n",
    "1. Find geographic locations of schools (for ex. https://nces.ed.gov/programs/edge/Geographic/SchoolLocations)\n",
    "1. Find geographic locations of roads around those schools.\n",
    "1. Seek streetview imagery around the schools using geographic location data (for ex. Google Streetview, etc)\n",
    "1. Use machine-intelligent techniques to surmise whether there are school zone signs or specialized lights (per region/country as this is typically standardized)\n",
    "1. Estimate the iRAP code for the \"School zone warning\" attribute for road segments\n",
    "\n",
    "An indirect advantage of this might be that roads which are not near schools could be noted to have a code of \"4\", or not applicable. There may also be a way to determine if there are crossing supervisors though I imagine this will be much more difficult (I've personally noticed they don't stick around all the time so streetview data may not be an accurate depiction).\n",
    "\n",
    "## To-do\n",
    "\n",
    "- Gather road lat,lon locations near schools using building or nearby road coordinates.\n",
    "    - Calculate additional lat/lon points between coords of Shapely linestring coordinates (this should be as straightforward as finding slope, providing a step number, but likely there's a function already available for this).\n",
    "- Explore parcels futher, i.e. https://wiki.openstreetmap.org/wiki/Parcel\n",
    "\n",
    "## References\n",
    "\n",
    "- iRAP\n",
    "    - Coding Manual - Section \"School zone warning\" - http://resources.irap.org/Specifications/iRAP_Coding_Manual_Drive_on_Left.pdf\n",
    "    - Code Upload Specification (code details) - Column \"School Zone Warning\" - http://resources.irap.org/Specifications/RAP-SR-3-3_Upload_file_specification.xlsx\n",
    "    - Global KPI Specification - https://www.starratingforschools.org/\n",
    "        - Star Rating for Schools Coding Specification - https://downloads.starratingforschools.org/Toolkit/SR4S_Coding_Guide.pdf\n",
    "- School Zones - https://en.wikipedia.org/wiki/School_zone\n",
    "- OSM\n",
    "    - Keys / Features\n",
    "        - https://wiki.openstreetmap.org/wiki/Key:amenity\n",
    "        - https://wiki.openstreetmap.org/wiki/Education_features\n",
    "        - https://wiki.openstreetmap.org/wiki/Key:school\n",
    "    - Parcel note https://wiki.openstreetmap.org/wiki/Parcel\n",
    "    - API\n",
    "        - https://wiki.openstreetmap.org/wiki/API_v0.6\n",
    "        - https://wiki.openstreetmap.org/wiki/Overpass_API\n",
    "            - Overpass query builder http://overpass-turbo.eu/\n",
    "    - OSMnx https://github.com/gboeing/osmnx  \n",
    "- NCES\n",
    "    - School location data https://nces.ed.gov/programs/edge/Geographic/SchoolLocations#"
   ]
  },
  {
   "cell_type": "code",
   "execution_count": 17,
   "metadata": {},
   "outputs": [],
   "source": [
    "%matplotlib inline\n",
    "import os\n",
    "import time\n",
    "import zipfile\n",
    "\n",
    "import geopandas as gpd\n",
    "import matplotlib.pyplot as plt\n",
    "import networkx as nx\n",
    "import numpy as np\n",
    "import osmnx as ox\n",
    "import pandas as pd\n",
    "import requests\n",
    "import shapely\n",
    "import shapely.ops as sp_ops\n",
    "from IPython.display import Image\n",
    "from pyproj import Proj, Transformer\n",
    "from shapely.geometry import LinearRing, LineString\n",
    "\n",
    "ox.config(log_console=True, log_level=10, use_cache=True)"
   ]
  },
  {
   "cell_type": "code",
   "execution_count": 2,
   "metadata": {},
   "outputs": [],
   "source": [
    "# https://nces.ed.gov/programs/edge/Geographic/SchoolLocations\n",
    "# direct link to 2018 post-secondary data: https://nces.ed.gov/programs/edge/data/EDGE_GEOCODE_POSTSEC_1819.zip\n",
    "# direct link to 2018 public school data: https://nces.ed.gov/programs/edge/data/EDGE_GEOCODE_PUBLICSCH_1819.zip\n",
    "\n",
    "# download zip file, send content to local file, then unzip\n",
    "files = [\n",
    "    \"https://nces.ed.gov/programs/edge/data/EDGE_GEOCODE_POSTSECONDARYSCH_1819.zip\",\n",
    "    \"https://nces.ed.gov/programs/edge/data/EDGE_GEOCODE_PUBLICSCH_1819.zip\",\n",
    "]\n",
    "\n",
    "# create a data subdir\n",
    "if not os.path.isdir(\"{}/data\".format(os.getcwd())):\n",
    "    os.mkdir(\"{}/data\".format(os.getcwd()))\n",
    "\n",
    "# download files and unzip into data dir\n",
    "for file in files:\n",
    "    if not os.path.isfile(\"{}/data/{}\".format(os.getcwd(), os.path.basename(file))):\n",
    "        getfile = requests.get(file)\n",
    "        if getfile.status_code == 200:\n",
    "            with open(\n",
    "                \"{}/data/{}\".format(os.getcwd(), os.path.basename(file)), \"wb\"\n",
    "            ) as f:\n",
    "                f.write(getfile.content)\n",
    "            with zipfile.ZipFile(\n",
    "                \"{}/data/{}\".format(os.getcwd(), os.path.basename(file)), \"r\"\n",
    "            ) as zip_ref:\n",
    "                zip_ref.extractall(\"{}/data\".format(os.getcwd()))"
   ]
  },
  {
   "cell_type": "code",
   "execution_count": 3,
   "metadata": {},
   "outputs": [],
   "source": [
    "postsec_df = pd.read_excel(\"data/EDGE_GEOCODE_POSTSECSCH_1819.xlsx\")\n",
    "pub_df = pd.read_excel(\"data/EDGE_GEOCODE_PUBLICSCH_1819.xlsx\")"
   ]
  },
  {
   "cell_type": "code",
   "execution_count": 4,
   "metadata": {},
   "outputs": [
    {
     "name": "stdout",
     "output_type": "stream",
     "text": [
      "<class 'pandas.core.frame.DataFrame'>\n",
      "RangeIndex: 102176 entries, 0 to 102175\n",
      "Data columns (total 25 columns):\n",
      " #   Column      Non-Null Count   Dtype  \n",
      "---  ------      --------------   -----  \n",
      " 0   NCESSCH     102176 non-null  int64  \n",
      " 1   LEAID       102176 non-null  int64  \n",
      " 2   NAME        102176 non-null  object \n",
      " 3   OPSTFIPS    102176 non-null  int64  \n",
      " 4   STREET      102175 non-null  object \n",
      " 5   CITY        102176 non-null  object \n",
      " 6   STATE       102176 non-null  object \n",
      " 7   ZIP         102176 non-null  int64  \n",
      " 8   STFIP       102176 non-null  int64  \n",
      " 9   CNTY        102176 non-null  int64  \n",
      " 10  NMCNTY      102176 non-null  object \n",
      " 11  LOCALE      102176 non-null  int64  \n",
      " 12  LAT         102176 non-null  float64\n",
      " 13  LON         102176 non-null  float64\n",
      " 14  CBSA        102176 non-null  object \n",
      " 15  NMCBSA      102176 non-null  object \n",
      " 16  CBSATYPE    102176 non-null  int64  \n",
      " 17  CSA         102176 non-null  object \n",
      " 18  NMCSA       102176 non-null  object \n",
      " 19  NECTA       102176 non-null  object \n",
      " 20  NMNECTA     102176 non-null  object \n",
      " 21  CD          102176 non-null  int64  \n",
      " 22  SLDL        102176 non-null  object \n",
      " 23  SLDU        102176 non-null  object \n",
      " 24  SCHOOLYEAR  102176 non-null  object \n",
      "dtypes: float64(2), int64(9), object(14)\n",
      "memory usage: 19.5+ MB\n"
     ]
    }
   ],
   "source": [
    "pub_df.info()"
   ]
  },
  {
   "cell_type": "code",
   "execution_count": 5,
   "metadata": {},
   "outputs": [
    {
     "data": {
      "text/html": [
       "<div>\n",
       "<style scoped>\n",
       "    .dataframe tbody tr th:only-of-type {\n",
       "        vertical-align: middle;\n",
       "    }\n",
       "\n",
       "    .dataframe tbody tr th {\n",
       "        vertical-align: top;\n",
       "    }\n",
       "\n",
       "    .dataframe thead th {\n",
       "        text-align: right;\n",
       "    }\n",
       "</style>\n",
       "<table border=\"1\" class=\"dataframe\">\n",
       "  <thead>\n",
       "    <tr style=\"text-align: right;\">\n",
       "      <th></th>\n",
       "      <th>NCESSCH</th>\n",
       "      <th>LEAID</th>\n",
       "      <th>NAME</th>\n",
       "      <th>OPSTFIPS</th>\n",
       "      <th>STREET</th>\n",
       "      <th>CITY</th>\n",
       "      <th>STATE</th>\n",
       "      <th>ZIP</th>\n",
       "      <th>STFIP</th>\n",
       "      <th>CNTY</th>\n",
       "      <th>...</th>\n",
       "      <th>NMCBSA</th>\n",
       "      <th>CBSATYPE</th>\n",
       "      <th>CSA</th>\n",
       "      <th>NMCSA</th>\n",
       "      <th>NECTA</th>\n",
       "      <th>NMNECTA</th>\n",
       "      <th>CD</th>\n",
       "      <th>SLDL</th>\n",
       "      <th>SLDU</th>\n",
       "      <th>SCHOOLYEAR</th>\n",
       "    </tr>\n",
       "  </thead>\n",
       "  <tbody>\n",
       "    <tr>\n",
       "      <th>0</th>\n",
       "      <td>10000500870</td>\n",
       "      <td>100005</td>\n",
       "      <td>Albertville Middle School</td>\n",
       "      <td>1</td>\n",
       "      <td>600 E Alabama Ave</td>\n",
       "      <td>Albertville</td>\n",
       "      <td>AL</td>\n",
       "      <td>35950</td>\n",
       "      <td>1</td>\n",
       "      <td>1095</td>\n",
       "      <td>...</td>\n",
       "      <td>Albertville, AL</td>\n",
       "      <td>2</td>\n",
       "      <td>290</td>\n",
       "      <td>Huntsville-Decatur-Albertville, AL</td>\n",
       "      <td>N</td>\n",
       "      <td>N</td>\n",
       "      <td>104</td>\n",
       "      <td>01026</td>\n",
       "      <td>01009</td>\n",
       "      <td>2018-2019</td>\n",
       "    </tr>\n",
       "    <tr>\n",
       "      <th>1</th>\n",
       "      <td>10000500871</td>\n",
       "      <td>100005</td>\n",
       "      <td>Albertville High School</td>\n",
       "      <td>1</td>\n",
       "      <td>402 E McCord Ave</td>\n",
       "      <td>Albertville</td>\n",
       "      <td>AL</td>\n",
       "      <td>35950</td>\n",
       "      <td>1</td>\n",
       "      <td>1095</td>\n",
       "      <td>...</td>\n",
       "      <td>Albertville, AL</td>\n",
       "      <td>2</td>\n",
       "      <td>290</td>\n",
       "      <td>Huntsville-Decatur-Albertville, AL</td>\n",
       "      <td>N</td>\n",
       "      <td>N</td>\n",
       "      <td>104</td>\n",
       "      <td>01026</td>\n",
       "      <td>01009</td>\n",
       "      <td>2018-2019</td>\n",
       "    </tr>\n",
       "    <tr>\n",
       "      <th>2</th>\n",
       "      <td>10000500879</td>\n",
       "      <td>100005</td>\n",
       "      <td>Evans Elementary School</td>\n",
       "      <td>1</td>\n",
       "      <td>901 W McKinney Ave</td>\n",
       "      <td>Albertville</td>\n",
       "      <td>AL</td>\n",
       "      <td>35950</td>\n",
       "      <td>1</td>\n",
       "      <td>1095</td>\n",
       "      <td>...</td>\n",
       "      <td>Albertville, AL</td>\n",
       "      <td>2</td>\n",
       "      <td>290</td>\n",
       "      <td>Huntsville-Decatur-Albertville, AL</td>\n",
       "      <td>N</td>\n",
       "      <td>N</td>\n",
       "      <td>104</td>\n",
       "      <td>01026</td>\n",
       "      <td>01009</td>\n",
       "      <td>2018-2019</td>\n",
       "    </tr>\n",
       "    <tr>\n",
       "      <th>3</th>\n",
       "      <td>10000500889</td>\n",
       "      <td>100005</td>\n",
       "      <td>Albertville Elementary School</td>\n",
       "      <td>1</td>\n",
       "      <td>145 West End Drive</td>\n",
       "      <td>Albertville</td>\n",
       "      <td>AL</td>\n",
       "      <td>35950</td>\n",
       "      <td>1</td>\n",
       "      <td>1095</td>\n",
       "      <td>...</td>\n",
       "      <td>Albertville, AL</td>\n",
       "      <td>2</td>\n",
       "      <td>290</td>\n",
       "      <td>Huntsville-Decatur-Albertville, AL</td>\n",
       "      <td>N</td>\n",
       "      <td>N</td>\n",
       "      <td>104</td>\n",
       "      <td>01026</td>\n",
       "      <td>01009</td>\n",
       "      <td>2018-2019</td>\n",
       "    </tr>\n",
       "    <tr>\n",
       "      <th>4</th>\n",
       "      <td>10000501616</td>\n",
       "      <td>100005</td>\n",
       "      <td>Big Spring Lake Kindergarten School</td>\n",
       "      <td>1</td>\n",
       "      <td>257 Country Club Rd</td>\n",
       "      <td>Albertville</td>\n",
       "      <td>AL</td>\n",
       "      <td>35951</td>\n",
       "      <td>1</td>\n",
       "      <td>1095</td>\n",
       "      <td>...</td>\n",
       "      <td>Albertville, AL</td>\n",
       "      <td>2</td>\n",
       "      <td>290</td>\n",
       "      <td>Huntsville-Decatur-Albertville, AL</td>\n",
       "      <td>N</td>\n",
       "      <td>N</td>\n",
       "      <td>104</td>\n",
       "      <td>01026</td>\n",
       "      <td>01009</td>\n",
       "      <td>2018-2019</td>\n",
       "    </tr>\n",
       "  </tbody>\n",
       "</table>\n",
       "<p>5 rows × 25 columns</p>\n",
       "</div>"
      ],
      "text/plain": [
       "       NCESSCH   LEAID                                 NAME  OPSTFIPS  \\\n",
       "0  10000500870  100005            Albertville Middle School         1   \n",
       "1  10000500871  100005              Albertville High School         1   \n",
       "2  10000500879  100005              Evans Elementary School         1   \n",
       "3  10000500889  100005        Albertville Elementary School         1   \n",
       "4  10000501616  100005  Big Spring Lake Kindergarten School         1   \n",
       "\n",
       "                STREET         CITY STATE    ZIP  STFIP  CNTY  ...  \\\n",
       "0    600 E Alabama Ave  Albertville    AL  35950      1  1095  ...   \n",
       "1     402 E McCord Ave  Albertville    AL  35950      1  1095  ...   \n",
       "2   901 W McKinney Ave  Albertville    AL  35950      1  1095  ...   \n",
       "3   145 West End Drive  Albertville    AL  35950      1  1095  ...   \n",
       "4  257 Country Club Rd  Albertville    AL  35951      1  1095  ...   \n",
       "\n",
       "            NMCBSA  CBSATYPE  CSA                               NMCSA NECTA  \\\n",
       "0  Albertville, AL         2  290  Huntsville-Decatur-Albertville, AL     N   \n",
       "1  Albertville, AL         2  290  Huntsville-Decatur-Albertville, AL     N   \n",
       "2  Albertville, AL         2  290  Huntsville-Decatur-Albertville, AL     N   \n",
       "3  Albertville, AL         2  290  Huntsville-Decatur-Albertville, AL     N   \n",
       "4  Albertville, AL         2  290  Huntsville-Decatur-Albertville, AL     N   \n",
       "\n",
       "  NMNECTA   CD   SLDL   SLDU SCHOOLYEAR  \n",
       "0       N  104  01026  01009  2018-2019  \n",
       "1       N  104  01026  01009  2018-2019  \n",
       "2       N  104  01026  01009  2018-2019  \n",
       "3       N  104  01026  01009  2018-2019  \n",
       "4       N  104  01026  01009  2018-2019  \n",
       "\n",
       "[5 rows x 25 columns]"
      ]
     },
     "execution_count": 5,
     "metadata": {},
     "output_type": "execute_result"
    }
   ],
   "source": [
    "pub_df.head()"
   ]
  },
  {
   "cell_type": "code",
   "execution_count": 6,
   "metadata": {},
   "outputs": [
    {
     "data": {
      "text/plain": [
       "(34.260194, -86.206174)"
      ]
     },
     "execution_count": 6,
     "metadata": {},
     "output_type": "execute_result"
    }
   ],
   "source": [
    "sample_latlon = tuple(pub_df.iloc[0][[\"LAT\", \"LON\"]].to_list())\n",
    "sample_latlon"
   ]
  },
  {
   "cell_type": "code",
   "execution_count": 7,
   "metadata": {},
   "outputs": [
    {
     "data": {
      "image/png": "[encoded data removed]",
      "text/plain": [
       "<Figure size 576x576 with 1 Axes>"
      ]
     },
     "metadata": {},
     "output_type": "display_data"
    }
   ],
   "source": [
    "# create a network around some (lat, lng) point but do not simplify it yet\n",
    "location_point = sample_latlon\n",
    "G = ox.graph_from_point(location_point, network_type=\"drive\", dist=600, simplify=True)\n",
    "# turn off strict mode and see what nodes we'd remove, in yellow\n",
    "nc = [\"r\" if ox.simplification._is_endpoint(G, node) else \"y\" for node in G.nodes()]\n",
    "fig, ax = ox.plot_graph(G, node_color=nc)"
   ]
  },
  {
   "cell_type": "markdown",
   "metadata": {},
   "source": [
    "We have roads, but perhaps too many roads and those which are not in direct proximity with the school. Attempting to find the building vector space as this may provide better ways to find roads around the school buildings. "
   ]
  },
  {
   "cell_type": "code",
   "execution_count": 8,
   "metadata": {},
   "outputs": [
    {
     "name": "stderr",
     "output_type": "stream",
     "text": [
      "/Users/odin/Library/Python/3.7/lib/python/site-packages/osmnx/pois.py:50: UserWarning: The `pois` module has been deprecated and will be removed in a future release. Use the `geometries` module's `geometries_from_point` function instead.\n",
      "  warnings.warn(msg)\n"
     ]
    },
    {
     "data": {
      "text/html": [
       "<div>\n",
       "<style scoped>\n",
       "    .dataframe tbody tr th:only-of-type {\n",
       "        vertical-align: middle;\n",
       "    }\n",
       "\n",
       "    .dataframe tbody tr th {\n",
       "        vertical-align: top;\n",
       "    }\n",
       "\n",
       "    .dataframe thead th {\n",
       "        text-align: right;\n",
       "    }\n",
       "</style>\n",
       "<table border=\"1\" class=\"dataframe\">\n",
       "  <thead>\n",
       "    <tr style=\"text-align: right;\">\n",
       "      <th></th>\n",
       "      <th>unique_id</th>\n",
       "      <th>osmid</th>\n",
       "      <th>element_type</th>\n",
       "      <th>amenity</th>\n",
       "      <th>ele</th>\n",
       "      <th>gnis:county_id</th>\n",
       "      <th>gnis:created</th>\n",
       "      <th>gnis:feature_id</th>\n",
       "      <th>gnis:state_id</th>\n",
       "      <th>name</th>\n",
       "      <th>geometry</th>\n",
       "      <th>addr:city</th>\n",
       "      <th>addr:housenumber</th>\n",
       "      <th>addr:postcode</th>\n",
       "      <th>addr:state</th>\n",
       "      <th>addr:street</th>\n",
       "      <th>internet_access</th>\n",
       "      <th>nodes</th>\n",
       "    </tr>\n",
       "  </thead>\n",
       "  <tbody>\n",
       "    <tr>\n",
       "      <th>0</th>\n",
       "      <td>node/358953682</td>\n",
       "      <td>358953682</td>\n",
       "      <td>node</td>\n",
       "      <td>school</td>\n",
       "      <td>323</td>\n",
       "      <td>095</td>\n",
       "      <td>12/01/2003</td>\n",
       "      <td>139322</td>\n",
       "      <td>01</td>\n",
       "      <td>Albertville Junior High School</td>\n",
       "      <td>POINT (-86.20610 34.26019)</td>\n",
       "      <td>NaN</td>\n",
       "      <td>NaN</td>\n",
       "      <td>NaN</td>\n",
       "      <td>NaN</td>\n",
       "      <td>NaN</td>\n",
       "      <td>NaN</td>\n",
       "      <td>NaN</td>\n",
       "    </tr>\n",
       "  </tbody>\n",
       "</table>\n",
       "</div>"
      ],
      "text/plain": [
       "        unique_id      osmid element_type amenity  ele gnis:county_id  \\\n",
       "0  node/358953682  358953682         node  school  323            095   \n",
       "\n",
       "  gnis:created gnis:feature_id gnis:state_id                            name  \\\n",
       "0   12/01/2003          139322            01  Albertville Junior High School   \n",
       "\n",
       "                     geometry addr:city addr:housenumber addr:postcode  \\\n",
       "0  POINT (-86.20610 34.26019)       NaN              NaN           NaN   \n",
       "\n",
       "  addr:state addr:street internet_access nodes  \n",
       "0        NaN         NaN             NaN   NaN  "
      ]
     },
     "execution_count": 8,
     "metadata": {},
     "output_type": "execute_result"
    }
   ],
   "source": [
    "# getting roads from a single latlon point seems like it returns more than we need.\n",
    "# can we get closer/fewer roads to the school using the amenity polygon details of the school?\n",
    "poi_df = ox.pois.pois_from_point(sample_latlon, tags={\"amenity\": True}, dist=600)\n",
    "poi_df.head()[:1]"
   ]
  },
  {
   "cell_type": "code",
   "execution_count": 9,
   "metadata": {},
   "outputs": [
    {
     "data": {
      "text/plain": [
       "unique_id                                                way/78503555\n",
       "osmid                                                        78503555\n",
       "element_type                                                      way\n",
       "amenity                                                        school\n",
       "ele                                                               319\n",
       "gnis:county_id                                                    095\n",
       "gnis:created                                               12/01/2003\n",
       "gnis:feature_id                                                139321\n",
       "gnis:state_id                                                      01\n",
       "name                                          Albertville High School\n",
       "geometry            POLYGON ((-86.2045567 34.2636728, -86.20716590...\n",
       "addr:city                                                         NaN\n",
       "addr:housenumber                                                  NaN\n",
       "addr:postcode                                                     NaN\n",
       "addr:state                                                        NaN\n",
       "addr:street                                                       NaN\n",
       "internet_access                                                   NaN\n",
       "nodes               [921245426, 921245429, 921245432, 921245434, 6...\n",
       "Name: 2, dtype: object"
      ]
     },
     "execution_count": 9,
     "metadata": {},
     "output_type": "execute_result"
    }
   ],
   "source": [
    "poi_df[\n",
    "    (poi_df[\"amenity\"] == \"school\") & (poi_df[\"geometry\"].geom_type == \"Polygon\")\n",
    "].iloc[0]"
   ]
  },
  {
   "cell_type": "code",
   "execution_count": 64,
   "metadata": {},
   "outputs": [
    {
     "data": {
      "text/plain": [
       "0      Point\n",
       "1      Point\n",
       "2    Polygon\n",
       "dtype: object"
      ]
     },
     "execution_count": 64,
     "metadata": {},
     "output_type": "execute_result"
    }
   ],
   "source": [
    "poi_df[\"geometry\"].geom_type"
   ]
  },
  {
   "cell_type": "code",
   "execution_count": 10,
   "metadata": {},
   "outputs": [
    {
     "data": {
      "image/svg+xml": [
       "<svg xmlns=\"http://www.w3.org/2000/svg\" xmlns:xlink=\"http://www.w3.org/1999/xlink\" width=\"100.0\" height=\"100.0\" viewBox=\"-86.207816784 34.257909016 0.005700468000000569 0.005985468000005767\" preserveAspectRatio=\"xMinYMin meet\"><g transform=\"matrix(1,0,0,-1,0,68.5218035)\"><path fill-rule=\"evenodd\" fill=\"#66cc99\" stroke=\"#555555\" stroke-width=\"0.00011970936000011535\" opacity=\"0.6\" d=\"M -86.2045567,34.2636728 L -86.2071659,34.2625821 L -86.2075951,34.2582017 L -86.2034967,34.2581307 L -86.2031722,34.2583604 L -86.202971,34.2586419 L -86.2023944,34.2588281 L -86.2029352,34.2596953 L -86.2028719,34.259895 L -86.2032178,34.2600961 L -86.202338,34.2604531 L -86.2034165,34.2619526 L -86.2045567,34.2636728 z\" /></g></svg>"
      ],
      "text/plain": [
       "<shapely.geometry.polygon.Polygon at 0x1283eb4a8>"
      ]
     },
     "execution_count": 10,
     "metadata": {},
     "output_type": "execute_result"
    }
   ],
   "source": [
    "polygon = poi_df.iloc[2][\"geometry\"]\n",
    "polygon"
   ]
  },
  {
   "cell_type": "code",
   "execution_count": 11,
   "metadata": {},
   "outputs": [
    {
     "data": {
      "image/png": "[encoded data removed]",
      "text/plain": [
       "<Figure size 576x576 with 1 Axes>"
      ]
     },
     "metadata": {},
     "output_type": "display_data"
    }
   ],
   "source": [
    "G = ox.graph_from_polygon(polygon=polygon, network_type=\"drive\", truncate_by_edge=True,)\n",
    "\n",
    "nc = [\"r\" if ox.simplification._is_endpoint(G, node) else \"y\" for node in G.nodes()]\n",
    "fig, ax = ox.plot_graph(G, node_color=nc)"
   ]
  },
  {
   "cell_type": "code",
   "execution_count": 12,
   "metadata": {},
   "outputs": [
    {
     "data": {
      "image/svg+xml": [
       "<svg xmlns=\"http://www.w3.org/2000/svg\" xmlns:xlink=\"http://www.w3.org/1999/xlink\" width=\"100.0\" height=\"100.0\" viewBox=\"-86.20810630963753 34.2576655834307 0.006279273276064146 0.0064723630786502895\" preserveAspectRatio=\"xMinYMin meet\"><g transform=\"matrix(1,0,0,-1,0,68.52180352994006)\"><path fill-rule=\"evenodd\" fill=\"#66cc99\" stroke=\"#555555\" stroke-width=\"0.00012944726157300578\" opacity=\"0.6\" d=\"M -86.20431880593719,34.26378149818792 L -86.2031809173665,34.26206477813064 L -86.20210487446612,34.260568688515484 L -86.20209244982854,34.26054933239628 L -86.2020823493458,34.260529065433026 L -86.20207466861811,34.26050807945432 L -86.20206948034236,34.26048657309411 L -86.20206683362404,34.26046474991169 L -86.20206675351253,34.2604428164649 L -86.20206924076409,34.26042098035513 L -86.2020742718348,34.260399448262234 L -86.20208179910341,34.260378423988456 L -86.20209175132226,34.26035810652935 L -86.2021040342916,34.26033868819025 L -86.20211853175125,34.2603203527662 L -86.20213510648117,34.26030327380237 L -86.20215360160013,34.26028761295134 L -86.20217384205074,34.26027351844317 L -86.2021956362563,34.26026112368243 L -86.20221877793414,34.26025054598555 L -86.20268768808585,34.260060275674284 L -86.20267453554604,34.26004983310623 L -86.20265666615026,34.260032442619824 L -86.20264100962578,34.26001363905918 L -86.20262772693953,34.25999361574816 L -86.20261695465211,34.259972578551036 L -86.20260880351391,34.259950743755915 L -86.20260335732644,34.259928335851036 L -86.20260067208092,34.259905585216686 L -86.20260077538265,34.2598827257567 L -86.2026036661673,34.2598599924935 L -86.20260931471199,34.259837619151945 L -86.20264600396011,34.2597218724917 L -86.20215328115059,34.25893176223481 L -86.20214215363387,34.25891153280165 L -86.20213348071435,34.25889049149205 L -86.2021273467859,34.258868843057854 L -86.20212381153542,34.258846798158686 L -86.20212290936213,34.25882457131197 L -86.20212464904297,34.258802378805456 L -86.20212901364715,34.25878043659263 L -86.20213596070111,34.25875895819113 L -86.2021454226018,34.258738152605225 L -86.20215730727469,34.25871822229189 L -86.20217149906965,34.25869936119078 L -86.20218785988658,34.25868175283705 L -86.2022062305191,34.25866556857541 L -86.20222643220391,34.25865096589282 L -86.2022482683603,34.25863808688602 L -86.202271526503,34.25862705687887 L -86.20229598030988,34.2586179832028 L -86.2027852959527,34.25845996998554 L -86.20293870047118,34.25824534151059 L -86.20295528305536,34.258224798468554 L -86.20297447575989,34.25820588710128 L -86.20299604764104,34.25818883496561 L -86.203320547442,34.25795913542306 L -86.20334291239296,34.257944899756296 L -86.20336693390254,34.25793266548924 L -86.20339235321701,34.25792256440609 L -86.20341889652607,34.25791470531298 L -86.20344627791245,34.257909172865865 L -86.20347420243142,34.25790602665877 L -86.20350236928799,34.25790530058176 L -86.2076007583683,34.25797630024161 L -86.20762673886125,34.25797778707178 L -86.20765242830794,34.257981333691674 L -86.20767759039067,34.25798690747591 L -86.20770199364283,34.25799445715114 L -86.20772541357812,34.258003913267785 L -86.20774763475562,34.2580151888388 L -86.20776845276157,34.2580281801399 L -86.20778767608978,34.258042767663724 L -86.20780512790326,34.25805881721909 L -86.207820647661,34.25807618116547 L -86.20783409259475,34.25809469977114 L -86.20784533902247,34.258114202682464 L -86.20785428348603,34.25813451049097 L -86.20786084370303,34.25815543638383 L -86.20786495932377,34.25817678786222 L -86.20786659248647,34.258198368512204 L -86.20786572816557,34.25821997981154 L -86.20743654206481,34.26260038094137 L -86.20743287775228,34.26262323671051 L -86.20742642089401,34.262645662199375 L -86.20741723902556,34.26266742284077 L -86.20740542818592,34.262688291021476 L -86.20739111191303,34.26270804846316 L -86.20737443995155,34.26272648850553 L -86.20735558668677,34.26274341826797 L -86.20733474932047,34.26275866066711 L -86.20731214580822,34.26277205626916 L -86.2072880125797,34.26278346495752 L -86.20467880783141,34.26387416745653 L -86.20465502776861,34.26388294828155 L -86.2046303444308,34.263889798616795 L -86.20460498456804,34.26389465553257 L -86.2045791811454,34.26389747441148 L -86.20455317120273,34.26389822935829 L -86.20452719367708,34.263896913437776 L -86.20450148720771,34.26389353873853 L -86.20447628794373,34.26388813626179 L -86.20445182737488,34.26388075563676 L -86.20442833020466,34.26387146466459 L -86.20440601228636,34.26386034869556 L -86.20438507863993,34.26384750984502 L -86.20436572156869,34.26383306605525 L -86.20434811889267,34.26381715001202 L -86.20433243231516,34.26379990792566 L -86.20431880593719,34.26378149818792 z\" /></g></svg>"
      ],
      "text/plain": [
       "<shapely.geometry.polygon.Polygon at 0x127a2df60>"
      ]
     },
     "execution_count": 12,
     "metadata": {},
     "output_type": "execute_result"
    }
   ],
   "source": [
    "# we don't receive many roads from just the polygon of the school amenity\n",
    "# so we buffer the polygon with for increased area using the same fxnality osmnx does\n",
    "# with ox.graph_from_polygon.clean_periphery:\n",
    "# https://github.com/gboeing/osmnx/blob/8653183bb966cfa826e92f1c95b11efa51f99572/osmnx/graph.py#L415\n",
    "buffer_dist = 25\n",
    "poly_proj, crs_utm = ox.projection.project_geometry(polygon)\n",
    "poly_proj_buff = poly_proj.buffer(buffer_dist)\n",
    "poly_buff, _ = ox.projection.project_geometry(\n",
    "    poly_proj_buff, crs=crs_utm, to_latlong=True\n",
    ")\n",
    "poly_buff"
   ]
  },
  {
   "cell_type": "code",
   "execution_count": 13,
   "metadata": {},
   "outputs": [
    {
     "data": {
      "image/png": "[encoded data removed]",
      "text/plain": [
       "<Figure size 576x576 with 1 Axes>"
      ]
     },
     "metadata": {},
     "output_type": "display_data"
    }
   ],
   "source": [
    "G = ox.graph_from_polygon(\n",
    "    polygon=poly_buff, network_type=\"drive\", truncate_by_edge=True,\n",
    ")\n",
    "\n",
    "nc = [\"r\" if ox.simplification._is_endpoint(G, node) else \"y\" for node in G.nodes()]\n",
    "fig, ax = ox.plot_graph(G, node_color=nc)"
   ]
  },
  {
   "cell_type": "code",
   "execution_count": 14,
   "metadata": {},
   "outputs": [
    {
     "data": {
      "text/html": [
       "<div>\n",
       "<style scoped>\n",
       "    .dataframe tbody tr th:only-of-type {\n",
       "        vertical-align: middle;\n",
       "    }\n",
       "\n",
       "    .dataframe tbody tr th {\n",
       "        vertical-align: top;\n",
       "    }\n",
       "\n",
       "    .dataframe thead th {\n",
       "        text-align: right;\n",
       "    }\n",
       "</style>\n",
       "<table border=\"1\" class=\"dataframe\">\n",
       "  <thead>\n",
       "    <tr style=\"text-align: right;\">\n",
       "      <th></th>\n",
       "      <th>source</th>\n",
       "      <th>target</th>\n",
       "      <th>name</th>\n",
       "      <th>osmid</th>\n",
       "      <th>length</th>\n",
       "      <th>oneway</th>\n",
       "      <th>geometry</th>\n",
       "      <th>highway</th>\n",
       "    </tr>\n",
       "  </thead>\n",
       "  <tbody>\n",
       "    <tr>\n",
       "      <th>0</th>\n",
       "      <td>57491916</td>\n",
       "      <td>57560978</td>\n",
       "      <td>East Alabama Avenue</td>\n",
       "      <td>7841183</td>\n",
       "      <td>110.027</td>\n",
       "      <td>False</td>\n",
       "      <td>NaN</td>\n",
       "      <td>residential</td>\n",
       "    </tr>\n",
       "    <tr>\n",
       "      <th>1</th>\n",
       "      <td>57491916</td>\n",
       "      <td>57643195</td>\n",
       "      <td>East Alabama Avenue</td>\n",
       "      <td>7841183</td>\n",
       "      <td>112.473</td>\n",
       "      <td>False</td>\n",
       "      <td>LINESTRING (-86.207459 34.259944, -86.207437 3...</td>\n",
       "      <td>residential</td>\n",
       "    </tr>\n",
       "    <tr>\n",
       "      <th>2</th>\n",
       "      <td>57491916</td>\n",
       "      <td>57658155</td>\n",
       "      <td>Davis Street</td>\n",
       "      <td>7842930</td>\n",
       "      <td>254.561</td>\n",
       "      <td>False</td>\n",
       "      <td>LINESTRING (-86.207459 34.259944, -86.207649 3...</td>\n",
       "      <td>residential</td>\n",
       "    </tr>\n",
       "    <tr>\n",
       "      <th>3</th>\n",
       "      <td>57508649</td>\n",
       "      <td>57566714</td>\n",
       "      <td>East McCord Avenue</td>\n",
       "      <td>7837281</td>\n",
       "      <td>42.501</td>\n",
       "      <td>False</td>\n",
       "      <td>LINESTRING (-86.205736 34.2628443, -86.2058818...</td>\n",
       "      <td>unclassified</td>\n",
       "    </tr>\n",
       "    <tr>\n",
       "      <th>4</th>\n",
       "      <td>57560403</td>\n",
       "      <td>57560407</td>\n",
       "      <td>Marshall Street</td>\n",
       "      <td>7837019</td>\n",
       "      <td>142.447</td>\n",
       "      <td>False</td>\n",
       "      <td>LINESTRING (-86.208105 34.263878, -86.20787799...</td>\n",
       "      <td>residential</td>\n",
       "    </tr>\n",
       "  </tbody>\n",
       "</table>\n",
       "</div>"
      ],
      "text/plain": [
       "     source    target                 name    osmid   length  oneway  \\\n",
       "0  57491916  57560978  East Alabama Avenue  7841183  110.027   False   \n",
       "1  57491916  57643195  East Alabama Avenue  7841183  112.473   False   \n",
       "2  57491916  57658155         Davis Street  7842930  254.561   False   \n",
       "3  57508649  57566714   East McCord Avenue  7837281   42.501   False   \n",
       "4  57560403  57560407      Marshall Street  7837019  142.447   False   \n",
       "\n",
       "                                            geometry       highway  \n",
       "0                                                NaN   residential  \n",
       "1  LINESTRING (-86.207459 34.259944, -86.207437 3...   residential  \n",
       "2  LINESTRING (-86.207459 34.259944, -86.207649 3...   residential  \n",
       "3  LINESTRING (-86.205736 34.2628443, -86.2058818...  unclassified  \n",
       "4  LINESTRING (-86.208105 34.263878, -86.20787799...   residential  "
      ]
     },
     "execution_count": 14,
     "metadata": {},
     "output_type": "execute_result"
    }
   ],
   "source": [
    "roads_df = nx.to_pandas_edgelist(G)\n",
    "roads_df.head()"
   ]
  },
  {
   "cell_type": "code",
   "execution_count": 48,
   "metadata": {},
   "outputs": [],
   "source": [
    "# ref https://gis.stackexchange.com/questions/372912/how-to-densify-linestring-vertices-in-shapely-geopandas\n",
    "def densify_geometry(line_geometry, step, crs=None):\n",
    "\n",
    "    # crs: epsg code of a coordinate reference system you want your line to be georeferenced with\n",
    "    # step: add a vertice every step in whatever unit your coordinate reference system use.\n",
    "\n",
    "    length_m = line_geometry.length  # get the length\n",
    "\n",
    "    xy = []  # to store new tuples of coordinates\n",
    "\n",
    "    # changed to not use casted int for length_m\n",
    "    for distance_along_old_line in np.arange(0, length_m, step):\n",
    "\n",
    "        point = line_geometry.interpolate(\n",
    "            distance_along_old_line\n",
    "        )  # interpolate a point every step along the old line\n",
    "        xp, yp = point.x, point.y  # extract the coordinates\n",
    "\n",
    "        xy.append((xp, yp))  # and store them in xy list\n",
    "\n",
    "    # new_line=LineString(xy) # Here, we finally create a new line with densified points.\n",
    "\n",
    "    if (\n",
    "        crs != None\n",
    "    ):  #  If you want to georeference your new geometry, uses crs to do the job.\n",
    "        new_line_geo = gpd.geoseries.GeoSeries(new_line, crs=crs)\n",
    "        return new_line_geo\n",
    "\n",
    "    else:\n",
    "        return xy"
   ]
  },
  {
   "cell_type": "code",
   "execution_count": 65,
   "metadata": {},
   "outputs": [
    {
     "data": {
      "text/plain": [
       "340"
      ]
     },
     "execution_count": 65,
     "metadata": {},
     "output_type": "execute_result"
    }
   ],
   "source": [
    "# gather road latlon tuples based on road geometry linestring coords\n",
    "road_latlons = []\n",
    "lats = []\n",
    "lons = []\n",
    "names = []\n",
    "school = []\n",
    "for index, row in roads_df[\n",
    "    ~(roads_df[\"geometry\"].isna()) & ~(roads_df[\"highway\"] == \"service\")\n",
    "].iterrows():\n",
    "    # work in progress\n",
    "    densified_points = densify_geometry(row[\"geometry\"], step=0.0003)\n",
    "\n",
    "    road_latlons += densified_points\n",
    "\n",
    "    lats += [x[1] for x in densified_points]\n",
    "    lons += [x[0] for x in densified_points]\n",
    "    names += [row[\"name\"] for x in densified_points]\n",
    "\n",
    "len(road_latlons)"
   ]
  },
  {
   "cell_type": "code",
   "execution_count": 66,
   "metadata": {},
   "outputs": [
    {
     "data": {
      "text/plain": [
       "340"
      ]
     },
     "execution_count": 66,
     "metadata": {},
     "output_type": "execute_result"
    }
   ],
   "source": [
    "len(lats)"
   ]
  },
  {
   "cell_type": "code",
   "execution_count": 67,
   "metadata": {},
   "outputs": [
    {
     "data": {
      "text/html": [
       "<div>\n",
       "<style scoped>\n",
       "    .dataframe tbody tr th:only-of-type {\n",
       "        vertical-align: middle;\n",
       "    }\n",
       "\n",
       "    .dataframe tbody tr th {\n",
       "        vertical-align: top;\n",
       "    }\n",
       "\n",
       "    .dataframe thead th {\n",
       "        text-align: right;\n",
       "    }\n",
       "</style>\n",
       "<table border=\"1\" class=\"dataframe\">\n",
       "  <thead>\n",
       "    <tr style=\"text-align: right;\">\n",
       "      <th></th>\n",
       "      <th>road_name</th>\n",
       "      <th>lon</th>\n",
       "      <th>lat</th>\n",
       "      <th>pair</th>\n",
       "    </tr>\n",
       "  </thead>\n",
       "  <tbody>\n",
       "    <tr>\n",
       "      <th>0</th>\n",
       "      <td>East Alabama Avenue</td>\n",
       "      <td>-86.207459</td>\n",
       "      <td>34.259944</td>\n",
       "      <td>(-86.207459, 34.259944)</td>\n",
       "    </tr>\n",
       "    <tr>\n",
       "      <th>1</th>\n",
       "      <td>East Alabama Avenue</td>\n",
       "      <td>-86.207432</td>\n",
       "      <td>34.260243</td>\n",
       "      <td>(-86.20743227750025, 34.26024279412285)</td>\n",
       "    </tr>\n",
       "    <tr>\n",
       "      <th>2</th>\n",
       "      <td>East Alabama Avenue</td>\n",
       "      <td>-86.207399</td>\n",
       "      <td>34.260541</td>\n",
       "      <td>(-86.20739859354683, 34.260540897110566)</td>\n",
       "    </tr>\n",
       "    <tr>\n",
       "      <th>3</th>\n",
       "      <td>East Alabama Avenue</td>\n",
       "      <td>-86.207369</td>\n",
       "      <td>34.260839</td>\n",
       "      <td>(-86.20736905771024, 34.26083943818038)</td>\n",
       "    </tr>\n",
       "    <tr>\n",
       "      <th>4</th>\n",
       "      <td>Davis Street</td>\n",
       "      <td>-86.207459</td>\n",
       "      <td>34.259944</td>\n",
       "      <td>(-86.207459, 34.259944)</td>\n",
       "    </tr>\n",
       "  </tbody>\n",
       "</table>\n",
       "</div>"
      ],
      "text/plain": [
       "             road_name        lon        lat  \\\n",
       "0  East Alabama Avenue -86.207459  34.259944   \n",
       "1  East Alabama Avenue -86.207432  34.260243   \n",
       "2  East Alabama Avenue -86.207399  34.260541   \n",
       "3  East Alabama Avenue -86.207369  34.260839   \n",
       "4         Davis Street -86.207459  34.259944   \n",
       "\n",
       "                                       pair  \n",
       "0                   (-86.207459, 34.259944)  \n",
       "1   (-86.20743227750025, 34.26024279412285)  \n",
       "2  (-86.20739859354683, 34.260540897110566)  \n",
       "3   (-86.20736905771024, 34.26083943818038)  \n",
       "4                   (-86.207459, 34.259944)  "
      ]
     },
     "execution_count": 67,
     "metadata": {},
     "output_type": "execute_result"
    }
   ],
   "source": [
    "lats_lons_df = pd.DataFrame.from_dict(\n",
    "    {\"road_name\": names, \"lon\": lons, \"lat\": lats, \"pair\": road_latlons,}\n",
    ")\n",
    "lats_lons_df.head()"
   ]
  },
  {
   "cell_type": "code",
   "execution_count": 68,
   "metadata": {},
   "outputs": [
    {
     "data": {
      "text/plain": [
       "<AxesSubplot:title={'center':'Road Lat/Lon Around School'}, xlabel='lon', ylabel='lat'>"
      ]
     },
     "execution_count": 68,
     "metadata": {},
     "output_type": "execute_result"
    },
    {
     "data": {
      "image/png": "[encoded data removed]",
      "text/plain": [
       "<Figure size 864x864 with 1 Axes>"
      ]
     },
     "metadata": {
      "needs_background": "light"
     },
     "output_type": "display_data"
    }
   ],
   "source": [
    "lats_lons_df[[\"lat\", \"lon\"]].plot(\n",
    "    kind=\"scatter\",\n",
    "    x=\"lon\",\n",
    "    y=\"lat\",\n",
    "    figsize=(12, 12),\n",
    "    title=\"Road Lat/Lon Around School\",\n",
    ")"
   ]
  },
  {
   "cell_type": "markdown",
   "metadata": {},
   "source": [
    "## School Amenity Zone Road Points (attempt to automate the above with limited subset)"
   ]
  },
  {
   "cell_type": "code",
   "execution_count": 77,
   "metadata": {},
   "outputs": [
    {
     "name": "stdout",
     "output_type": "stream",
     "text": [
      "Processing data for: Albertville Middle School\n",
      "Processing data for: Albertville High School\n",
      "Processing data for: Evans Elementary School\n",
      "Processing data for: Albertville Elementary School\n",
      "Processing data for: Big Spring Lake Kindergarten School\n",
      "Processing data for: Albertville Primary School\n"
     ]
    }
   ],
   "source": [
    "def buffer_polygon(\n",
    "    polygon: shapely.geometry.polygon.Polygon, buffer_dist: int = 25\n",
    ") -> shapely.geometry.polygon.Polygon:\n",
    "    \"\"\"\n",
    "    We don't receive many roads from just the polygon of the school amenity\n",
    "    so we buffer the polygon for increased area using the same fxnality osmnx does\n",
    "    with ox.graph_from_polygon.clean_periphery:\n",
    "    https://github.com/gboeing/osmnx/blob/8653183bb966cfa826e92f1c95b11efa51f99572/osmnx/graph.py#L415\n",
    "\n",
    "    buffer_dist == amount to buffer the polygon in meters(?)\n",
    "    \"\"\"\n",
    "\n",
    "    poly_proj, crs_utm = ox.projection.project_geometry(polygon)\n",
    "    poly_proj_buff = poly_proj.buffer(buffer_dist)\n",
    "    poly_buff, _ = ox.projection.project_geometry(\n",
    "        poly_proj_buff, crs=crs_utm, to_latlong=True\n",
    "    )\n",
    "    return poly_buff\n",
    "\n",
    "\n",
    "# ref https://gis.stackexchange.com/questions/372912/how-to-densify-linestring-vertices-in-shapely-geopandas\n",
    "def densify_geometry(line_geometry, step, crs=None):\n",
    "\n",
    "    # crs: epsg code of a coordinate reference system you want your line to be georeferenced with\n",
    "    # step: add a vertice every step in whatever unit your coordinate reference system use.\n",
    "\n",
    "    length_m = line_geometry.length  # get the length\n",
    "\n",
    "    xy = []  # to store new tuples of coordinates\n",
    "\n",
    "    # changed to not use casted int for length_m\n",
    "    for distance_along_old_line in np.arange(0, length_m, step):\n",
    "\n",
    "        point = line_geometry.interpolate(\n",
    "            distance_along_old_line\n",
    "        )  # interpolate a point every step along the old line\n",
    "        xp, yp = point.x, point.y  # extract the coordinates\n",
    "\n",
    "        xy.append((xp, yp))  # and store them in xy list\n",
    "\n",
    "    # new_line=LineString(xy) # Here, we finally create a new line with densified points.\n",
    "\n",
    "    if (\n",
    "        crs != None\n",
    "    ):  #  If you want to georeference your new geometry, uses crs to do the job.\n",
    "        new_line_geo = gpd.geoseries.GeoSeries(new_line, crs=crs)\n",
    "        return new_line_geo\n",
    "\n",
    "    else:\n",
    "        return xy\n",
    "\n",
    "\n",
    "def gather_road_points_around_amenity(\n",
    "    lat: float, lon: float, amenity_types: list\n",
    ") -> pd.DataFrame:\n",
    "    # single lat/lon location of the school\n",
    "    point = tuple([lat, lon])\n",
    "\n",
    "    # find amenities near point\n",
    "    poi_df = ox.geometries.geometries_from_point(\n",
    "        point, tags={\"amenity\": True}, dist=600\n",
    "    )\n",
    "\n",
    "    # limit results to the first amenity with a polygon geometry type\n",
    "    # there's a better way, but the hope here is that there aren't too many other overlapping polygons\n",
    "    school_poi = poi_df[\n",
    "        (poi_df[\"amenity\"].isin(amenity_types))\n",
    "        & (poi_df[\"geometry\"].geom_type == \"Polygon\")\n",
    "    ].iloc[0]\n",
    "\n",
    "    # loop for buffer range of amenity polygon to make sure we receive roads back without errors\n",
    "    for x in range(25, 80, 3):\n",
    "        try:\n",
    "            # buffer/inflate the geometry polygon to encompass nearby roads with next steps\n",
    "            buffered_school_poi_geometry = buffer_polygon(\n",
    "                polygon=school_poi[\"geometry\"], buffer_dist=x\n",
    "            )\n",
    "\n",
    "            # get roads graph based on buffered polygon\n",
    "            school_roads_graph = ox.graph_from_polygon(\n",
    "                polygon=buffered_school_poi_geometry,\n",
    "                network_type=\"drive\",\n",
    "                truncate_by_edge=True,\n",
    "            )\n",
    "\n",
    "            # if we're able to run without a valueerror being emitted, break loop\n",
    "            break\n",
    "\n",
    "        # if we reach a value error, continue the try's until we don't error\n",
    "        except ValueError:\n",
    "            # print(\"Failed with buffered polygon of dist {}, trying again with greater buffer.\".format(x))\n",
    "            continue\n",
    "\n",
    "    # extract roads pandas edgelist from school roads nx graph\n",
    "    roads_df = nx.to_pandas_edgelist(school_roads_graph)\n",
    "\n",
    "    # gather road latlon tuples based on road geometry linestring coords\n",
    "    lats = []\n",
    "    lons = []\n",
    "    road_names = []\n",
    "    road_lengths = []\n",
    "    bearings = []\n",
    "    for index, rrow in roads_df[\n",
    "        ~(roads_df[\"geometry\"].isna()) & ~(roads_df[\"highway\"] == \"service\")\n",
    "    ].iterrows():\n",
    "\n",
    "        densified_points = densify_geometry(rrow[\"geometry\"], step=0.0002)\n",
    "\n",
    "        if len(densified_points) > 1:\n",
    "            lats += [x[1] for x in densified_points]\n",
    "            lons += [x[0] for x in densified_points]\n",
    "            road_names += [rrow[\"name\"] for x in densified_points]\n",
    "            road_lengths += [rrow[\"length\"] for x in densified_points]\n",
    "\n",
    "            for x in range(0, len(densified_points)):\n",
    "\n",
    "                # calculate bearings of the road\n",
    "                if x == 0:\n",
    "                    # if we're at the beginning of the road linestring,\n",
    "                    # reverse the bearing source and targ to keep uniform bearings for data\n",
    "                    bearing = ox.bearing.get_bearing(\n",
    "                        densified_points[x + 1], densified_points[x]\n",
    "                    )\n",
    "                else:\n",
    "                    bearing = ox.bearing.get_bearing(\n",
    "                        densified_points[x], densified_points[x - 1]\n",
    "                    )\n",
    "\n",
    "                bearings.append(bearing)\n",
    "\n",
    "    # create a dataframe to encapsulate data gathered above\n",
    "    school_road_points_df = pd.DataFrame.from_dict(\n",
    "        {\n",
    "            \"road_name\": road_names,\n",
    "            \"lon\": lons,\n",
    "            \"lat\": lats,\n",
    "            \"road_length\": road_lengths,\n",
    "            \"bearing\": bearings,\n",
    "        }\n",
    "    )\n",
    "\n",
    "    return school_road_points_df\n",
    "\n",
    "\n",
    "df_list = []\n",
    "for index, row in pub_df[~(pub_df[\"LAT\"].isna()) & ~(pub_df[\"LON\"].isna())].iterrows():\n",
    "\n",
    "    # limit results to arbitary small number\n",
    "    if index > 5:\n",
    "        break\n",
    "\n",
    "    print(\"Processing data for: {}\".format(row[\"NAME\"]))\n",
    "\n",
    "    road_points_df = gather_road_points_around_amenity(\n",
    "        lat=row[\"LAT\"],\n",
    "        lon=row[\"LON\"],\n",
    "        amenity_types=[\"school\", \"kindergarten\", \"preeschool\"],\n",
    "    )\n",
    "\n",
    "    # append school details from source data for road coordinates\n",
    "    road_points_df[\"school_NCESSCH\"] = row[\"NCESSCH\"]\n",
    "    road_points_df[\"school_LEAID\"] = row[\"LEAID\"]\n",
    "    road_points_df[\"school_street\"] = row[\"STREET\"]\n",
    "    road_points_df[\"school_city\"] = row[\"CITY\"]\n",
    "    road_points_df[\"school_state\"] = row[\"STATE\"]\n",
    "    road_points_df[\"school_country\"] = \"USA\"\n",
    "    road_points_df[\"school\"] = row[\"NAME\"]\n",
    "    road_points_df[\"school_lat\"] = row[\"LAT\"]\n",
    "    road_points_df[\"school_lon\"] = row[\"LON\"]\n",
    "\n",
    "    # append the dataframe to a list for later concatenation\n",
    "    df_list.append(road_points_df)"
   ]
  },
  {
   "cell_type": "code",
   "execution_count": 79,
   "metadata": {},
   "outputs": [
    {
     "data": {
      "text/html": [
       "<div>\n",
       "<style scoped>\n",
       "    .dataframe tbody tr th:only-of-type {\n",
       "        vertical-align: middle;\n",
       "    }\n",
       "\n",
       "    .dataframe tbody tr th {\n",
       "        vertical-align: top;\n",
       "    }\n",
       "\n",
       "    .dataframe thead th {\n",
       "        text-align: right;\n",
       "    }\n",
       "</style>\n",
       "<table border=\"1\" class=\"dataframe\">\n",
       "  <thead>\n",
       "    <tr style=\"text-align: right;\">\n",
       "      <th></th>\n",
       "      <th>road_name</th>\n",
       "      <th>lon</th>\n",
       "      <th>lat</th>\n",
       "      <th>road_length</th>\n",
       "      <th>bearing</th>\n",
       "      <th>school_NCESSCH</th>\n",
       "      <th>school_LEAID</th>\n",
       "      <th>school_street</th>\n",
       "      <th>school_city</th>\n",
       "      <th>school_state</th>\n",
       "      <th>school_country</th>\n",
       "      <th>school</th>\n",
       "      <th>school_lat</th>\n",
       "      <th>school_lon</th>\n",
       "    </tr>\n",
       "  </thead>\n",
       "  <tbody>\n",
       "    <tr>\n",
       "      <th>0</th>\n",
       "      <td>East Alabama Avenue</td>\n",
       "      <td>-86.207459</td>\n",
       "      <td>34.259944</td>\n",
       "      <td>112.473</td>\n",
       "      <td>217.692586</td>\n",
       "      <td>10000500870</td>\n",
       "      <td>100005</td>\n",
       "      <td>600 E Alabama Ave</td>\n",
       "      <td>Albertville</td>\n",
       "      <td>AL</td>\n",
       "      <td>USA</td>\n",
       "      <td>Albertville Middle School</td>\n",
       "      <td>34.260194</td>\n",
       "      <td>-86.206174</td>\n",
       "    </tr>\n",
       "    <tr>\n",
       "      <th>1</th>\n",
       "      <td>East Alabama Avenue</td>\n",
       "      <td>-86.207442</td>\n",
       "      <td>34.260143</td>\n",
       "      <td>112.473</td>\n",
       "      <td>217.692586</td>\n",
       "      <td>10000500870</td>\n",
       "      <td>100005</td>\n",
       "      <td>600 E Alabama Ave</td>\n",
       "      <td>Albertville</td>\n",
       "      <td>AL</td>\n",
       "      <td>USA</td>\n",
       "      <td>Albertville Middle School</td>\n",
       "      <td>34.260194</td>\n",
       "      <td>-86.206174</td>\n",
       "    </tr>\n",
       "    <tr>\n",
       "      <th>2</th>\n",
       "      <td>East Alabama Avenue</td>\n",
       "      <td>-86.207421</td>\n",
       "      <td>34.260342</td>\n",
       "      <td>112.473</td>\n",
       "      <td>212.197864</td>\n",
       "      <td>10000500870</td>\n",
       "      <td>100005</td>\n",
       "      <td>600 E Alabama Ave</td>\n",
       "      <td>Albertville</td>\n",
       "      <td>AL</td>\n",
       "      <td>USA</td>\n",
       "      <td>Albertville Middle School</td>\n",
       "      <td>34.260194</td>\n",
       "      <td>-86.206174</td>\n",
       "    </tr>\n",
       "    <tr>\n",
       "      <th>3</th>\n",
       "      <td>East Alabama Avenue</td>\n",
       "      <td>-86.207399</td>\n",
       "      <td>34.260541</td>\n",
       "      <td>112.473</td>\n",
       "      <td>210.343839</td>\n",
       "      <td>10000500870</td>\n",
       "      <td>100005</td>\n",
       "      <td>600 E Alabama Ave</td>\n",
       "      <td>Albertville</td>\n",
       "      <td>AL</td>\n",
       "      <td>USA</td>\n",
       "      <td>Albertville Middle School</td>\n",
       "      <td>34.260194</td>\n",
       "      <td>-86.206174</td>\n",
       "    </tr>\n",
       "    <tr>\n",
       "      <th>4</th>\n",
       "      <td>East Alabama Avenue</td>\n",
       "      <td>-86.207379</td>\n",
       "      <td>34.260740</td>\n",
       "      <td>112.473</td>\n",
       "      <td>213.672736</td>\n",
       "      <td>10000500870</td>\n",
       "      <td>100005</td>\n",
       "      <td>600 E Alabama Ave</td>\n",
       "      <td>Albertville</td>\n",
       "      <td>AL</td>\n",
       "      <td>USA</td>\n",
       "      <td>Albertville Middle School</td>\n",
       "      <td>34.260194</td>\n",
       "      <td>-86.206174</td>\n",
       "    </tr>\n",
       "    <tr>\n",
       "      <th>5</th>\n",
       "      <td>East Alabama Avenue</td>\n",
       "      <td>-86.207359</td>\n",
       "      <td>34.260939</td>\n",
       "      <td>112.473</td>\n",
       "      <td>213.953386</td>\n",
       "      <td>10000500870</td>\n",
       "      <td>100005</td>\n",
       "      <td>600 E Alabama Ave</td>\n",
       "      <td>Albertville</td>\n",
       "      <td>AL</td>\n",
       "      <td>USA</td>\n",
       "      <td>Albertville Middle School</td>\n",
       "      <td>34.260194</td>\n",
       "      <td>-86.206174</td>\n",
       "    </tr>\n",
       "    <tr>\n",
       "      <th>6</th>\n",
       "      <td>Davis Street</td>\n",
       "      <td>-86.207459</td>\n",
       "      <td>34.259944</td>\n",
       "      <td>254.561</td>\n",
       "      <td>359.912967</td>\n",
       "      <td>10000500870</td>\n",
       "      <td>100005</td>\n",
       "      <td>600 E Alabama Ave</td>\n",
       "      <td>Albertville</td>\n",
       "      <td>AL</td>\n",
       "      <td>USA</td>\n",
       "      <td>Albertville Middle School</td>\n",
       "      <td>34.260194</td>\n",
       "      <td>-86.206174</td>\n",
       "    </tr>\n",
       "    <tr>\n",
       "      <th>7</th>\n",
       "      <td>Davis Street</td>\n",
       "      <td>-86.207659</td>\n",
       "      <td>34.259949</td>\n",
       "      <td>254.561</td>\n",
       "      <td>359.912967</td>\n",
       "      <td>10000500870</td>\n",
       "      <td>100005</td>\n",
       "      <td>600 E Alabama Ave</td>\n",
       "      <td>Albertville</td>\n",
       "      <td>AL</td>\n",
       "      <td>USA</td>\n",
       "      <td>Albertville Middle School</td>\n",
       "      <td>34.260194</td>\n",
       "      <td>-86.206174</td>\n",
       "    </tr>\n",
       "    <tr>\n",
       "      <th>8</th>\n",
       "      <td>Davis Street</td>\n",
       "      <td>-86.207859</td>\n",
       "      <td>34.259960</td>\n",
       "      <td>254.561</td>\n",
       "      <td>359.774431</td>\n",
       "      <td>10000500870</td>\n",
       "      <td>100005</td>\n",
       "      <td>600 E Alabama Ave</td>\n",
       "      <td>Albertville</td>\n",
       "      <td>AL</td>\n",
       "      <td>USA</td>\n",
       "      <td>Albertville Middle School</td>\n",
       "      <td>34.260194</td>\n",
       "      <td>-86.206174</td>\n",
       "    </tr>\n",
       "    <tr>\n",
       "      <th>9</th>\n",
       "      <td>Davis Street</td>\n",
       "      <td>-86.208058</td>\n",
       "      <td>34.259972</td>\n",
       "      <td>254.561</td>\n",
       "      <td>359.774443</td>\n",
       "      <td>10000500870</td>\n",
       "      <td>100005</td>\n",
       "      <td>600 E Alabama Ave</td>\n",
       "      <td>Albertville</td>\n",
       "      <td>AL</td>\n",
       "      <td>USA</td>\n",
       "      <td>Albertville Middle School</td>\n",
       "      <td>34.260194</td>\n",
       "      <td>-86.206174</td>\n",
       "    </tr>\n",
       "  </tbody>\n",
       "</table>\n",
       "</div>"
      ],
      "text/plain": [
       "             road_name        lon        lat  road_length     bearing  \\\n",
       "0  East Alabama Avenue -86.207459  34.259944      112.473  217.692586   \n",
       "1  East Alabama Avenue -86.207442  34.260143      112.473  217.692586   \n",
       "2  East Alabama Avenue -86.207421  34.260342      112.473  212.197864   \n",
       "3  East Alabama Avenue -86.207399  34.260541      112.473  210.343839   \n",
       "4  East Alabama Avenue -86.207379  34.260740      112.473  213.672736   \n",
       "5  East Alabama Avenue -86.207359  34.260939      112.473  213.953386   \n",
       "6         Davis Street -86.207459  34.259944      254.561  359.912967   \n",
       "7         Davis Street -86.207659  34.259949      254.561  359.912967   \n",
       "8         Davis Street -86.207859  34.259960      254.561  359.774431   \n",
       "9         Davis Street -86.208058  34.259972      254.561  359.774443   \n",
       "\n",
       "   school_NCESSCH  school_LEAID      school_street  school_city school_state  \\\n",
       "0     10000500870        100005  600 E Alabama Ave  Albertville           AL   \n",
       "1     10000500870        100005  600 E Alabama Ave  Albertville           AL   \n",
       "2     10000500870        100005  600 E Alabama Ave  Albertville           AL   \n",
       "3     10000500870        100005  600 E Alabama Ave  Albertville           AL   \n",
       "4     10000500870        100005  600 E Alabama Ave  Albertville           AL   \n",
       "5     10000500870        100005  600 E Alabama Ave  Albertville           AL   \n",
       "6     10000500870        100005  600 E Alabama Ave  Albertville           AL   \n",
       "7     10000500870        100005  600 E Alabama Ave  Albertville           AL   \n",
       "8     10000500870        100005  600 E Alabama Ave  Albertville           AL   \n",
       "9     10000500870        100005  600 E Alabama Ave  Albertville           AL   \n",
       "\n",
       "  school_country                     school  school_lat  school_lon  \n",
       "0            USA  Albertville Middle School   34.260194  -86.206174  \n",
       "1            USA  Albertville Middle School   34.260194  -86.206174  \n",
       "2            USA  Albertville Middle School   34.260194  -86.206174  \n",
       "3            USA  Albertville Middle School   34.260194  -86.206174  \n",
       "4            USA  Albertville Middle School   34.260194  -86.206174  \n",
       "5            USA  Albertville Middle School   34.260194  -86.206174  \n",
       "6            USA  Albertville Middle School   34.260194  -86.206174  \n",
       "7            USA  Albertville Middle School   34.260194  -86.206174  \n",
       "8            USA  Albertville Middle School   34.260194  -86.206174  \n",
       "9            USA  Albertville Middle School   34.260194  -86.206174  "
      ]
     },
     "execution_count": 79,
     "metadata": {},
     "output_type": "execute_result"
    }
   ],
   "source": [
    "merged_df = pd.concat(df_list)\n",
    "merged_df.head(10)"
   ]
  },
  {
   "cell_type": "code",
   "execution_count": 14,
   "metadata": {},
   "outputs": [
    {
     "name": "stdout",
     "output_type": "stream",
     "text": [
      "<class 'pandas.core.frame.DataFrame'>\n",
      "Int64Index: 1042 entries, 0 to 99\n",
      "Data columns (total 14 columns):\n",
      " #   Column          Non-Null Count  Dtype  \n",
      "---  ------          --------------  -----  \n",
      " 0   road_name       910 non-null    object \n",
      " 1   lon             1042 non-null   float64\n",
      " 2   lat             1042 non-null   float64\n",
      " 3   road_length     1042 non-null   float64\n",
      " 4   bearing         1042 non-null   float64\n",
      " 5   school_NCESSCH  1042 non-null   int64  \n",
      " 6   school_LEAID    1042 non-null   int64  \n",
      " 7   school_street   1042 non-null   object \n",
      " 8   school_city     1042 non-null   object \n",
      " 9   school_state    1042 non-null   object \n",
      " 10  school_country  1042 non-null   object \n",
      " 11  school          1042 non-null   object \n",
      " 12  school_lat      1042 non-null   float64\n",
      " 13  school_lon      1042 non-null   float64\n",
      "dtypes: float64(6), int64(2), object(6)\n",
      "memory usage: 122.1+ KB\n"
     ]
    }
   ],
   "source": [
    "merged_df.info()"
   ]
  },
  {
   "cell_type": "code",
   "execution_count": 15,
   "metadata": {},
   "outputs": [
    {
     "data": {
      "text/plain": [
       "['road_name',\n",
       " 'lon',\n",
       " 'lat',\n",
       " 'road_length',\n",
       " 'bearing',\n",
       " 'school_NCESSCH',\n",
       " 'school_LEAID',\n",
       " 'school_street',\n",
       " 'school_city',\n",
       " 'school_state',\n",
       " 'school_country',\n",
       " 'school',\n",
       " 'school_lat',\n",
       " 'school_lon']"
      ]
     },
     "execution_count": 15,
     "metadata": {},
     "output_type": "execute_result"
    }
   ],
   "source": [
    "list(merged_df.columns)"
   ]
  },
  {
   "cell_type": "code",
   "execution_count": 81,
   "metadata": {},
   "outputs": [],
   "source": [
    "merged_df[\n",
    "    [\n",
    "        \"school_NCESSCH\",\n",
    "        \"school_LEAID\",\n",
    "        \"school_street\",\n",
    "        \"school_city\",\n",
    "        \"school_state\",\n",
    "        \"school_country\",\n",
    "        \"school\",\n",
    "        \"school_lat\",\n",
    "        \"school_lon\",\n",
    "        \"road_name\",\n",
    "        \"lat\",\n",
    "        \"lon\",\n",
    "        \"road_length\",\n",
    "        \"bearing\",\n",
    "    ]\n",
    "].to_csv(\"../data/school_roads-sample.csv\", index=False)"
   ]
  },
  {
   "cell_type": "markdown",
   "metadata": {},
   "source": [
    "## School Building Coordinate Analysis"
   ]
  },
  {
   "cell_type": "code",
   "execution_count": 15,
   "metadata": {},
   "outputs": [
    {
     "data": {
      "image/png": "[encoded data removed]",
      "text/plain": [
       "<IPython.core.display.Image object>"
      ]
     },
     "execution_count": 15,
     "metadata": {
      "image/png": {
       "height": 240,
       "width": 240
      }
     },
     "output_type": "execute_result"
    }
   ],
   "source": [
    "# can we get some details about the buildings and would this provide better road coordinates than above?\n",
    "\n",
    "img_folder = \"images\"\n",
    "extension = \"png\"\n",
    "size = 240\n",
    "\n",
    "tags = {\"building\": True}\n",
    "gdf = ox.geometries_from_point(sample_latlon, tags, dist=300)\n",
    "gdf_proj = ox.project_gdf(gdf)\n",
    "bbox = ox.utils_geo.bbox_from_point(point=location_point, dist=350, project_utm=True)\n",
    "fp = f\"./{img_folder}/school_buildings.{extension}\"\n",
    "fig, ax = ox.plot_footprints(\n",
    "    gdf_proj,\n",
    "    bbox=bbox,\n",
    "    color=\"y\",\n",
    "    filepath=fp,\n",
    "    dpi=90,\n",
    "    save=True,\n",
    "    show=False,\n",
    "    close=True,\n",
    ")\n",
    "Image(fp, height=size, width=size)"
   ]
  },
  {
   "cell_type": "code",
   "execution_count": 16,
   "metadata": {},
   "outputs": [
    {
     "data": {
      "text/html": [
       "<div>\n",
       "<style scoped>\n",
       "    .dataframe tbody tr th:only-of-type {\n",
       "        vertical-align: middle;\n",
       "    }\n",
       "\n",
       "    .dataframe tbody tr th {\n",
       "        vertical-align: top;\n",
       "    }\n",
       "\n",
       "    .dataframe thead th {\n",
       "        text-align: right;\n",
       "    }\n",
       "</style>\n",
       "<table border=\"1\" class=\"dataframe\">\n",
       "  <thead>\n",
       "    <tr style=\"text-align: right;\">\n",
       "      <th></th>\n",
       "      <th>unique_id</th>\n",
       "      <th>osmid</th>\n",
       "      <th>element_type</th>\n",
       "      <th>nodes</th>\n",
       "      <th>building</th>\n",
       "      <th>geometry</th>\n",
       "    </tr>\n",
       "  </thead>\n",
       "  <tbody>\n",
       "    <tr>\n",
       "      <th>0</th>\n",
       "      <td>way/780212348</td>\n",
       "      <td>780212348</td>\n",
       "      <td>way</td>\n",
       "      <td>[7285029563, 7285029564, 7285029565, 728502956...</td>\n",
       "      <td>school</td>\n",
       "      <td>POLYGON ((-86.20642 34.25897, -86.20642 34.258...</td>\n",
       "    </tr>\n",
       "    <tr>\n",
       "      <th>1</th>\n",
       "      <td>way/780212350</td>\n",
       "      <td>780212350</td>\n",
       "      <td>way</td>\n",
       "      <td>[7285029571, 7285029572, 7285029573, 728502957...</td>\n",
       "      <td>school</td>\n",
       "      <td>POLYGON ((-86.20645 34.25991, -86.20641 34.260...</td>\n",
       "    </tr>\n",
       "    <tr>\n",
       "      <th>2</th>\n",
       "      <td>way/780212351</td>\n",
       "      <td>780212351</td>\n",
       "      <td>way</td>\n",
       "      <td>[7285084519, 7285084520, 7285084521, 728508452...</td>\n",
       "      <td>school</td>\n",
       "      <td>POLYGON ((-86.20551 34.25919, -86.20561 34.259...</td>\n",
       "    </tr>\n",
       "    <tr>\n",
       "      <th>3</th>\n",
       "      <td>way/780212356</td>\n",
       "      <td>780212356</td>\n",
       "      <td>way</td>\n",
       "      <td>[7285084578, 7285084579, 7285084580, 728508458...</td>\n",
       "      <td>school</td>\n",
       "      <td>POLYGON ((-86.20447 34.26042, -86.20402 34.260...</td>\n",
       "    </tr>\n",
       "    <tr>\n",
       "      <th>4</th>\n",
       "      <td>way/780212362</td>\n",
       "      <td>780212362</td>\n",
       "      <td>way</td>\n",
       "      <td>[7285084631, 7285402892, 7285084632, 728508463...</td>\n",
       "      <td>school</td>\n",
       "      <td>POLYGON ((-86.20604 34.26141, -86.20589 34.261...</td>\n",
       "    </tr>\n",
       "  </tbody>\n",
       "</table>\n",
       "</div>"
      ],
      "text/plain": [
       "       unique_id      osmid element_type  \\\n",
       "0  way/780212348  780212348          way   \n",
       "1  way/780212350  780212350          way   \n",
       "2  way/780212351  780212351          way   \n",
       "3  way/780212356  780212356          way   \n",
       "4  way/780212362  780212362          way   \n",
       "\n",
       "                                               nodes building  \\\n",
       "0  [7285029563, 7285029564, 7285029565, 728502956...   school   \n",
       "1  [7285029571, 7285029572, 7285029573, 728502957...   school   \n",
       "2  [7285084519, 7285084520, 7285084521, 728508452...   school   \n",
       "3  [7285084578, 7285084579, 7285084580, 728508458...   school   \n",
       "4  [7285084631, 7285402892, 7285084632, 728508463...   school   \n",
       "\n",
       "                                            geometry  \n",
       "0  POLYGON ((-86.20642 34.25897, -86.20642 34.258...  \n",
       "1  POLYGON ((-86.20645 34.25991, -86.20641 34.260...  \n",
       "2  POLYGON ((-86.20551 34.25919, -86.20561 34.259...  \n",
       "3  POLYGON ((-86.20447 34.26042, -86.20402 34.260...  \n",
       "4  POLYGON ((-86.20604 34.26141, -86.20589 34.261...  "
      ]
     },
     "execution_count": 16,
     "metadata": {},
     "output_type": "execute_result"
    }
   ],
   "source": [
    "gdf.head()"
   ]
  },
  {
   "cell_type": "code",
   "execution_count": 17,
   "metadata": {},
   "outputs": [
    {
     "name": "stdout",
     "output_type": "stream",
     "text": [
      "<class 'geopandas.geodataframe.GeoDataFrame'>\n",
      "Int64Index: 16 entries, 0 to 15\n",
      "Data columns (total 6 columns):\n",
      " #   Column        Non-Null Count  Dtype   \n",
      "---  ------        --------------  -----   \n",
      " 0   unique_id     16 non-null     object  \n",
      " 1   osmid         16 non-null     int64   \n",
      " 2   element_type  16 non-null     object  \n",
      " 3   nodes         16 non-null     object  \n",
      " 4   building      16 non-null     object  \n",
      " 5   geometry      16 non-null     geometry\n",
      "dtypes: geometry(1), int64(1), object(4)\n",
      "memory usage: 896.0+ bytes\n"
     ]
    }
   ],
   "source": [
    "gdf.info()"
   ]
  },
  {
   "cell_type": "code",
   "execution_count": 18,
   "metadata": {},
   "outputs": [
    {
     "data": {
      "text/html": [
       "<div>\n",
       "<style scoped>\n",
       "    .dataframe tbody tr th:only-of-type {\n",
       "        vertical-align: middle;\n",
       "    }\n",
       "\n",
       "    .dataframe tbody tr th {\n",
       "        vertical-align: top;\n",
       "    }\n",
       "\n",
       "    .dataframe thead th {\n",
       "        text-align: right;\n",
       "    }\n",
       "</style>\n",
       "<table border=\"1\" class=\"dataframe\">\n",
       "  <thead>\n",
       "    <tr style=\"text-align: right;\">\n",
       "      <th></th>\n",
       "      <th>minx</th>\n",
       "      <th>miny</th>\n",
       "      <th>maxx</th>\n",
       "      <th>maxy</th>\n",
       "    </tr>\n",
       "  </thead>\n",
       "  <tbody>\n",
       "    <tr>\n",
       "      <th>0</th>\n",
       "      <td>-86.206421</td>\n",
       "      <td>34.258744</td>\n",
       "      <td>-86.206173</td>\n",
       "      <td>34.258974</td>\n",
       "    </tr>\n",
       "    <tr>\n",
       "      <th>1</th>\n",
       "      <td>-86.206682</td>\n",
       "      <td>34.259435</td>\n",
       "      <td>-86.205610</td>\n",
       "      <td>34.261116</td>\n",
       "    </tr>\n",
       "    <tr>\n",
       "      <th>2</th>\n",
       "      <td>-86.205629</td>\n",
       "      <td>34.259194</td>\n",
       "      <td>-86.205237</td>\n",
       "      <td>34.259826</td>\n",
       "    </tr>\n",
       "    <tr>\n",
       "      <th>3</th>\n",
       "      <td>-86.204472</td>\n",
       "      <td>34.260097</td>\n",
       "      <td>-86.203855</td>\n",
       "      <td>34.260603</td>\n",
       "    </tr>\n",
       "    <tr>\n",
       "      <th>4</th>\n",
       "      <td>-86.206040</td>\n",
       "      <td>34.261141</td>\n",
       "      <td>-86.205572</td>\n",
       "      <td>34.261544</td>\n",
       "    </tr>\n",
       "    <tr>\n",
       "      <th>5</th>\n",
       "      <td>-86.203744</td>\n",
       "      <td>34.258198</td>\n",
       "      <td>-86.203389</td>\n",
       "      <td>34.258376</td>\n",
       "    </tr>\n",
       "    <tr>\n",
       "      <th>6</th>\n",
       "      <td>-86.203685</td>\n",
       "      <td>34.258850</td>\n",
       "      <td>-86.203535</td>\n",
       "      <td>34.258998</td>\n",
       "    </tr>\n",
       "    <tr>\n",
       "      <th>7</th>\n",
       "      <td>-86.203763</td>\n",
       "      <td>34.259099</td>\n",
       "      <td>-86.203441</td>\n",
       "      <td>34.259376</td>\n",
       "    </tr>\n",
       "    <tr>\n",
       "      <th>8</th>\n",
       "      <td>-86.204166</td>\n",
       "      <td>34.259355</td>\n",
       "      <td>-86.203986</td>\n",
       "      <td>34.259498</td>\n",
       "    </tr>\n",
       "    <tr>\n",
       "      <th>9</th>\n",
       "      <td>-86.203785</td>\n",
       "      <td>34.259380</td>\n",
       "      <td>-86.203673</td>\n",
       "      <td>34.259467</td>\n",
       "    </tr>\n",
       "    <tr>\n",
       "      <th>10</th>\n",
       "      <td>-86.204499</td>\n",
       "      <td>34.259878</td>\n",
       "      <td>-86.204279</td>\n",
       "      <td>34.260105</td>\n",
       "    </tr>\n",
       "    <tr>\n",
       "      <th>11</th>\n",
       "      <td>-86.205294</td>\n",
       "      <td>34.260940</td>\n",
       "      <td>-86.204359</td>\n",
       "      <td>34.262486</td>\n",
       "    </tr>\n",
       "    <tr>\n",
       "      <th>12</th>\n",
       "      <td>-86.206069</td>\n",
       "      <td>34.261687</td>\n",
       "      <td>-86.205225</td>\n",
       "      <td>34.262491</td>\n",
       "    </tr>\n",
       "    <tr>\n",
       "      <th>13</th>\n",
       "      <td>-86.204481</td>\n",
       "      <td>34.261985</td>\n",
       "      <td>-86.203943</td>\n",
       "      <td>34.262611</td>\n",
       "    </tr>\n",
       "    <tr>\n",
       "      <th>14</th>\n",
       "      <td>-86.203574</td>\n",
       "      <td>34.260348</td>\n",
       "      <td>-86.202686</td>\n",
       "      <td>34.261109</td>\n",
       "    </tr>\n",
       "    <tr>\n",
       "      <th>15</th>\n",
       "      <td>-86.203848</td>\n",
       "      <td>34.261190</td>\n",
       "      <td>-86.203418</td>\n",
       "      <td>34.261531</td>\n",
       "    </tr>\n",
       "  </tbody>\n",
       "</table>\n",
       "</div>"
      ],
      "text/plain": [
       "         minx       miny       maxx       maxy\n",
       "0  -86.206421  34.258744 -86.206173  34.258974\n",
       "1  -86.206682  34.259435 -86.205610  34.261116\n",
       "2  -86.205629  34.259194 -86.205237  34.259826\n",
       "3  -86.204472  34.260097 -86.203855  34.260603\n",
       "4  -86.206040  34.261141 -86.205572  34.261544\n",
       "5  -86.203744  34.258198 -86.203389  34.258376\n",
       "6  -86.203685  34.258850 -86.203535  34.258998\n",
       "7  -86.203763  34.259099 -86.203441  34.259376\n",
       "8  -86.204166  34.259355 -86.203986  34.259498\n",
       "9  -86.203785  34.259380 -86.203673  34.259467\n",
       "10 -86.204499  34.259878 -86.204279  34.260105\n",
       "11 -86.205294  34.260940 -86.204359  34.262486\n",
       "12 -86.206069  34.261687 -86.205225  34.262491\n",
       "13 -86.204481  34.261985 -86.203943  34.262611\n",
       "14 -86.203574  34.260348 -86.202686  34.261109\n",
       "15 -86.203848  34.261190 -86.203418  34.261531"
      ]
     },
     "execution_count": 18,
     "metadata": {},
     "output_type": "execute_result"
    }
   ],
   "source": [
    "gdf[\"geometry\"].bounds"
   ]
  },
  {
   "cell_type": "code",
   "execution_count": null,
   "metadata": {},
   "outputs": [],
   "source": [
    "# gather roads near boundaries provided\n",
    "# attempting to further constrain the roads\n",
    "# (we don't want to analyze roads too far away from the school)\n",
    "graphs = []\n",
    "for index, row in gdf[\"geometry\"].bounds.iterrows():\n",
    "    latlon_min = tuple([row[\"miny\"], row[\"minx\"]])\n",
    "    latlon_max = tuple([row[\"maxy\"], row[\"maxx\"]])\n",
    "    G_min = ox.graph_from_point(\n",
    "        latlon_min, network_type=\"drive\", dist=300, simplify=True\n",
    "    )\n",
    "    G_max = ox.graph_from_point(\n",
    "        latlon_max, network_type=\"drive\", dist=300, simplify=True\n",
    "    )\n",
    "    graphs.append(G_min)\n",
    "    graphs.append(G_max)\n",
    "\n",
    "# combine all of our collected graphs\n",
    "combined = nx.compose_all(graphs)"
   ]
  },
  {
   "cell_type": "code",
   "execution_count": null,
   "metadata": {},
   "outputs": [],
   "source": [
    "nc = [\n",
    "    \"r\" if ox.simplification._is_endpoint(combined, node) else \"y\"\n",
    "    for node in combined.nodes()\n",
    "]\n",
    "fig, ax = ox.plot_graph(combined, node_color=nc)"
   ]
  },
  {
   "cell_type": "code",
   "execution_count": null,
   "metadata": {},
   "outputs": [],
   "source": [
    "roads_df = nx.to_pandas_edgelist(combined)\n",
    "roads_df.info()"
   ]
  },
  {
   "cell_type": "code",
   "execution_count": 37,
   "metadata": {},
   "outputs": [
    {
     "data": {
      "text/html": [
       "<div>\n",
       "<style scoped>\n",
       "    .dataframe tbody tr th:only-of-type {\n",
       "        vertical-align: middle;\n",
       "    }\n",
       "\n",
       "    .dataframe tbody tr th {\n",
       "        vertical-align: top;\n",
       "    }\n",
       "\n",
       "    .dataframe thead th {\n",
       "        text-align: right;\n",
       "    }\n",
       "</style>\n",
       "<table border=\"1\" class=\"dataframe\">\n",
       "  <thead>\n",
       "    <tr style=\"text-align: right;\">\n",
       "      <th></th>\n",
       "      <th>source</th>\n",
       "      <th>target</th>\n",
       "      <th>ref</th>\n",
       "      <th>geometry</th>\n",
       "      <th>highway</th>\n",
       "      <th>area</th>\n",
       "      <th>service</th>\n",
       "      <th>oneway</th>\n",
       "      <th>osmid</th>\n",
       "      <th>name</th>\n",
       "      <th>length</th>\n",
       "    </tr>\n",
       "  </thead>\n",
       "  <tbody>\n",
       "    <tr>\n",
       "      <th>0</th>\n",
       "      <td>57491916</td>\n",
       "      <td>57560978</td>\n",
       "      <td>NaN</td>\n",
       "      <td>NaN</td>\n",
       "      <td>residential</td>\n",
       "      <td>NaN</td>\n",
       "      <td>NaN</td>\n",
       "      <td>False</td>\n",
       "      <td>7841183</td>\n",
       "      <td>East Alabama Avenue</td>\n",
       "      <td>110.027</td>\n",
       "    </tr>\n",
       "    <tr>\n",
       "      <th>1</th>\n",
       "      <td>57491916</td>\n",
       "      <td>57491924</td>\n",
       "      <td>NaN</td>\n",
       "      <td>LINESTRING (-86.207459 34.259944, -86.20737099...</td>\n",
       "      <td>service</td>\n",
       "      <td>NaN</td>\n",
       "      <td>NaN</td>\n",
       "      <td>False</td>\n",
       "      <td>7833311</td>\n",
       "      <td>NaN</td>\n",
       "      <td>76.503</td>\n",
       "    </tr>\n",
       "    <tr>\n",
       "      <th>2</th>\n",
       "      <td>57491916</td>\n",
       "      <td>57643195</td>\n",
       "      <td>NaN</td>\n",
       "      <td>LINESTRING (-86.207459 34.259944, -86.207437 3...</td>\n",
       "      <td>residential</td>\n",
       "      <td>NaN</td>\n",
       "      <td>NaN</td>\n",
       "      <td>False</td>\n",
       "      <td>7841183</td>\n",
       "      <td>East Alabama Avenue</td>\n",
       "      <td>112.473</td>\n",
       "    </tr>\n",
       "    <tr>\n",
       "      <th>3</th>\n",
       "      <td>57491924</td>\n",
       "      <td>57491963</td>\n",
       "      <td>NaN</td>\n",
       "      <td>LINESTRING (-86.20664600000001 34.259999, -86....</td>\n",
       "      <td>service</td>\n",
       "      <td>NaN</td>\n",
       "      <td>NaN</td>\n",
       "      <td>False</td>\n",
       "      <td>7833311</td>\n",
       "      <td>NaN</td>\n",
       "      <td>181.732</td>\n",
       "    </tr>\n",
       "    <tr>\n",
       "      <th>4</th>\n",
       "      <td>57491924</td>\n",
       "      <td>57491916</td>\n",
       "      <td>NaN</td>\n",
       "      <td>LINESTRING (-86.20664600000001 34.259999, -86....</td>\n",
       "      <td>service</td>\n",
       "      <td>NaN</td>\n",
       "      <td>NaN</td>\n",
       "      <td>False</td>\n",
       "      <td>7833311</td>\n",
       "      <td>NaN</td>\n",
       "      <td>76.503</td>\n",
       "    </tr>\n",
       "  </tbody>\n",
       "</table>\n",
       "</div>"
      ],
      "text/plain": [
       "     source    target  ref                                           geometry  \\\n",
       "0  57491916  57560978  NaN                                                NaN   \n",
       "1  57491916  57491924  NaN  LINESTRING (-86.207459 34.259944, -86.20737099...   \n",
       "2  57491916  57643195  NaN  LINESTRING (-86.207459 34.259944, -86.207437 3...   \n",
       "3  57491924  57491963  NaN  LINESTRING (-86.20664600000001 34.259999, -86....   \n",
       "4  57491924  57491916  NaN  LINESTRING (-86.20664600000001 34.259999, -86....   \n",
       "\n",
       "       highway area service  oneway    osmid                 name   length  \n",
       "0  residential  NaN     NaN   False  7841183  East Alabama Avenue  110.027  \n",
       "1      service  NaN     NaN   False  7833311                  NaN   76.503  \n",
       "2  residential  NaN     NaN   False  7841183  East Alabama Avenue  112.473  \n",
       "3      service  NaN     NaN   False  7833311                  NaN  181.732  \n",
       "4      service  NaN     NaN   False  7833311                  NaN   76.503  "
      ]
     },
     "execution_count": 37,
     "metadata": {},
     "output_type": "execute_result"
    }
   ],
   "source": [
    "roads_df.head()"
   ]
  },
  {
   "cell_type": "code",
   "execution_count": 38,
   "metadata": {},
   "outputs": [
    {
     "data": {
      "text/plain": [
       "array(['residential', 'service', 'tertiary', 'unclassified', 'secondary'],\n",
       "      dtype=object)"
      ]
     },
     "execution_count": 38,
     "metadata": {},
     "output_type": "execute_result"
    }
   ],
   "source": [
    "roads_df[\"highway\"].unique()"
   ]
  },
  {
   "cell_type": "code",
   "execution_count": 39,
   "metadata": {},
   "outputs": [
    {
     "data": {
      "text/plain": [
       "array(['East Alabama Avenue', nan, 'Noblitt Street', 'College Street',\n",
       "       'Teal Street', 'Elm Street', 'Draper Street', 'Dora Street',\n",
       "       'East McCord Avenue', 'Jackson Street', 'Baltimore Avenue',\n",
       "       'Eunice Street', 'West Lane Street', 'Boyd Street',\n",
       "       'McDonald Avenue', 'Marshall Street', 'Albert Street',\n",
       "       'East Main Street'], dtype=object)"
      ]
     },
     "execution_count": 39,
     "metadata": {},
     "output_type": "execute_result"
    }
   ],
   "source": [
    "roads_df[\"name\"].unique()"
   ]
  },
  {
   "cell_type": "code",
   "execution_count": 40,
   "metadata": {},
   "outputs": [
    {
     "data": {
      "text/plain": [
       "0                                                    NaN\n",
       "1      LINESTRING (-86.207459 34.259944, -86.20737099...\n",
       "2      LINESTRING (-86.207459 34.259944, -86.207437 3...\n",
       "3      LINESTRING (-86.20664600000001 34.259999, -86....\n",
       "4      LINESTRING (-86.20664600000001 34.259999, -86....\n",
       "                             ...                        \n",
       "148    LINESTRING (-86.201082 34.263625, -86.200727 3...\n",
       "149    LINESTRING (-86.20000400000001 34.261694, -86....\n",
       "150    LINESTRING (-86.20000400000001 34.261694, -86....\n",
       "151    LINESTRING (-86.20058899999999 34.262767, -86....\n",
       "152    LINESTRING (-86.20058899999999 34.262767, -86....\n",
       "Name: geometry, Length: 153, dtype: object"
      ]
     },
     "execution_count": 40,
     "metadata": {},
     "output_type": "execute_result"
    }
   ],
   "source": [
    "roads_df[\"geometry\"]"
   ]
  },
  {
   "cell_type": "code",
   "execution_count": 41,
   "metadata": {},
   "outputs": [
    {
     "data": {
      "text/plain": [
       "(array('d', [-86.207459, -86.207371, -86.207209, -86.207039, -86.206785, -86.206646]),\n",
       " array('d', [34.259944, 34.259946, 34.259929, 34.259924, 34.25994, 34.259999]))"
      ]
     },
     "execution_count": 41,
     "metadata": {},
     "output_type": "execute_result"
    }
   ],
   "source": [
    "roads_df[\"geometry\"].iloc[1].coords.xy"
   ]
  },
  {
   "cell_type": "code",
   "execution_count": 42,
   "metadata": {},
   "outputs": [
    {
     "data": {
      "image/svg+xml": [
       "<svg xmlns=\"http://www.w3.org/2000/svg\" xmlns:xlink=\"http://www.w3.org/1999/xlink\" width=\"100.0\" height=\"100.0\" viewBox=\"-86.20749152 34.25989148 0.000878040000003466 0.00014003999999800953\" preserveAspectRatio=\"xMinYMin meet\"><g transform=\"matrix(1,0,0,-1,0,68.519923)\"><polyline fill=\"none\" stroke=\"#66cc99\" stroke-width=\"1.756080000006932e-05\" points=\"-86.207459,34.259944 -86.207371,34.259946 -86.207209,34.259929 -86.207039,34.259924 -86.206785,34.25994 -86.206646,34.259999\" opacity=\"0.8\" /></g></svg>"
      ],
      "text/plain": [
       "<shapely.geometry.linestring.LineString at 0x23bb30f1c08>"
      ]
     },
     "execution_count": 42,
     "metadata": {},
     "output_type": "execute_result"
    }
   ],
   "source": [
    "roads_df[\"geometry\"].iloc[1]"
   ]
  },
  {
   "cell_type": "code",
   "execution_count": 43,
   "metadata": {},
   "outputs": [
    {
     "data": {
      "text/plain": [
       "0.001013103652424786"
      ]
     },
     "execution_count": 43,
     "metadata": {},
     "output_type": "execute_result"
    }
   ],
   "source": [
    "roads_df[\"geometry\"].iloc[2].length"
   ]
  },
  {
   "cell_type": "code",
   "execution_count": 44,
   "metadata": {},
   "outputs": [
    {
     "data": {
      "text/plain": [
       "(-86.206646, 34.259999)"
      ]
     },
     "execution_count": 44,
     "metadata": {},
     "output_type": "execute_result"
    }
   ],
   "source": [
    "roads_df[\"geometry\"].iloc[1].interpolate(6).coords[0]"
   ]
  },
  {
   "cell_type": "code",
   "execution_count": 45,
   "metadata": {},
   "outputs": [
    {
     "data": {
      "text/plain": [
       "[(34.259944, -86.207459),\n",
       " (34.259946, -86.207371),\n",
       " (34.259929, -86.207209),\n",
       " (34.259924, -86.207039),\n",
       " (34.25994, -86.206785),\n",
       " (34.259999, -86.206646)]"
      ]
     },
     "execution_count": 45,
     "metadata": {},
     "output_type": "execute_result"
    }
   ],
   "source": [
    "# gather road latlon tuples based on road geometry linestring coords\n",
    "road_latlons = []\n",
    "for x in range(0, len(roads_df[\"geometry\"].iloc[1].coords.xy[1])):\n",
    "    road_latlons.append(\n",
    "        tuple(\n",
    "            [\n",
    "                roads_df[\"geometry\"].iloc[1].coords.xy[1][x],\n",
    "                roads_df[\"geometry\"].iloc[1].coords.xy[0][x],\n",
    "            ]\n",
    "        )\n",
    "    )\n",
    "road_latlons"
   ]
  },
  {
   "cell_type": "code",
   "execution_count": 46,
   "metadata": {},
   "outputs": [
    {
     "data": {
      "text/plain": [
       "408"
      ]
     },
     "execution_count": 46,
     "metadata": {},
     "output_type": "execute_result"
    }
   ],
   "source": [
    "# gather road latlon tuples based on road geometry linestring coords\n",
    "road_latlons = []\n",
    "lats = []\n",
    "lons = []\n",
    "names = []\n",
    "school = []\n",
    "for index, row in roads_df[\n",
    "    ~(roads_df[\"geometry\"].isna()) & ~(roads_df[\"highway\"] == \"service\")\n",
    "].iterrows():\n",
    "    for x in range(0, len(row[\"geometry\"].coords.xy[1])):\n",
    "        road_latlons.append(\n",
    "            tuple([row[\"geometry\"].coords.xy[1][x], row[\"geometry\"].coords.xy[0][x]])\n",
    "        )\n",
    "        lats.append(row[\"geometry\"].coords.xy[1][x])\n",
    "        lons.append(row[\"geometry\"].coords.xy[0][x])\n",
    "        names.append(row[\"name\"])\n",
    "        school.append(pub_df.iloc[0][\"NAME\"])\n",
    "\n",
    "len(road_latlons)"
   ]
  },
  {
   "cell_type": "code",
   "execution_count": 47,
   "metadata": {},
   "outputs": [
    {
     "data": {
      "text/html": [
       "<div>\n",
       "<style scoped>\n",
       "    .dataframe tbody tr th:only-of-type {\n",
       "        vertical-align: middle;\n",
       "    }\n",
       "\n",
       "    .dataframe tbody tr th {\n",
       "        vertical-align: top;\n",
       "    }\n",
       "\n",
       "    .dataframe thead th {\n",
       "        text-align: right;\n",
       "    }\n",
       "</style>\n",
       "<table border=\"1\" class=\"dataframe\">\n",
       "  <thead>\n",
       "    <tr style=\"text-align: right;\">\n",
       "      <th></th>\n",
       "      <th>school</th>\n",
       "      <th>road_name</th>\n",
       "      <th>lon</th>\n",
       "      <th>lat</th>\n",
       "      <th>pair</th>\n",
       "    </tr>\n",
       "  </thead>\n",
       "  <tbody>\n",
       "    <tr>\n",
       "      <th>0</th>\n",
       "      <td>Albertville Middle School</td>\n",
       "      <td>East Alabama Avenue</td>\n",
       "      <td>-86.207459</td>\n",
       "      <td>34.259944</td>\n",
       "      <td>(34.259944, -86.207459)</td>\n",
       "    </tr>\n",
       "    <tr>\n",
       "      <th>1</th>\n",
       "      <td>Albertville Middle School</td>\n",
       "      <td>East Alabama Avenue</td>\n",
       "      <td>-86.207437</td>\n",
       "      <td>34.260201</td>\n",
       "      <td>(34.260201, -86.207437)</td>\n",
       "    </tr>\n",
       "    <tr>\n",
       "      <th>2</th>\n",
       "      <td>Albertville Middle School</td>\n",
       "      <td>East Alabama Avenue</td>\n",
       "      <td>-86.207397</td>\n",
       "      <td>34.260555</td>\n",
       "      <td>(34.260555, -86.207397)</td>\n",
       "    </tr>\n",
       "    <tr>\n",
       "      <th>3</th>\n",
       "      <td>Albertville Middle School</td>\n",
       "      <td>East Alabama Avenue</td>\n",
       "      <td>-86.207358</td>\n",
       "      <td>34.260952</td>\n",
       "      <td>(34.260952, -86.207358)</td>\n",
       "    </tr>\n",
       "    <tr>\n",
       "      <th>4</th>\n",
       "      <td>Albertville Middle School</td>\n",
       "      <td>East Alabama Avenue</td>\n",
       "      <td>-86.207573</td>\n",
       "      <td>34.258959</td>\n",
       "      <td>(34.258959, -86.207573)</td>\n",
       "    </tr>\n",
       "  </tbody>\n",
       "</table>\n",
       "</div>"
      ],
      "text/plain": [
       "                      school            road_name        lon        lat  \\\n",
       "0  Albertville Middle School  East Alabama Avenue -86.207459  34.259944   \n",
       "1  Albertville Middle School  East Alabama Avenue -86.207437  34.260201   \n",
       "2  Albertville Middle School  East Alabama Avenue -86.207397  34.260555   \n",
       "3  Albertville Middle School  East Alabama Avenue -86.207358  34.260952   \n",
       "4  Albertville Middle School  East Alabama Avenue -86.207573  34.258959   \n",
       "\n",
       "                      pair  \n",
       "0  (34.259944, -86.207459)  \n",
       "1  (34.260201, -86.207437)  \n",
       "2  (34.260555, -86.207397)  \n",
       "3  (34.260952, -86.207358)  \n",
       "4  (34.258959, -86.207573)  "
      ]
     },
     "execution_count": 47,
     "metadata": {},
     "output_type": "execute_result"
    }
   ],
   "source": [
    "lats_lons_df = pd.DataFrame.from_dict(\n",
    "    {\n",
    "        \"school\": school,\n",
    "        \"road_name\": names,\n",
    "        \"lon\": lons,\n",
    "        \"lat\": lats,\n",
    "        \"pair\": road_latlons,\n",
    "    }\n",
    ")\n",
    "lats_lons_df.head()"
   ]
  },
  {
   "cell_type": "code",
   "execution_count": 48,
   "metadata": {},
   "outputs": [
    {
     "data": {
      "text/plain": [
       "<AxesSubplot:title={'center':'Road Lat/Lon Around School'}, xlabel='lon', ylabel='lat'>"
      ]
     },
     "execution_count": 48,
     "metadata": {},
     "output_type": "execute_result"
    },
    {
     "data": {
      "image/png": "[encoded data removed]",
      "text/plain": [
       "<Figure size 864x864 with 1 Axes>"
      ]
     },
     "metadata": {
      "needs_background": "light"
     },
     "output_type": "display_data"
    }
   ],
   "source": [
    "lats_lons_df[[\"lat\", \"lon\"]].plot(\n",
    "    kind=\"scatter\",\n",
    "    x=\"lon\",\n",
    "    y=\"lat\",\n",
    "    figsize=(12, 12),\n",
    "    title=\"Road Lat/Lon Around School\",\n",
    ")"
   ]
  },
  {
   "cell_type": "code",
   "execution_count": null,
   "metadata": {},
   "outputs": [],
   "source": []
  }
 ],
 "metadata": {
  "kernelspec": {
   "display_name": "Python 3",
   "language": "python",
   "name": "python3"
  },
  "language_info": {
   "codemirror_mode": {
    "name": "ipython",
    "version": 3
   },
   "file_extension": ".py",
   "mimetype": "text/x-python",
   "name": "python",
   "nbconvert_exporter": "python",
   "pygments_lexer": "ipython3",
   "version": "3.7.6"
  }
 },
 "nbformat": 4,
 "nbformat_minor": 4
}
