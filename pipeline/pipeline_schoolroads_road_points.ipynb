{
 "cells": [
  {
   "cell_type": "markdown",
   "metadata": {},
   "source": [
    "# Pipeline - School Roads - Road Points\n",
    "\n",
    "The purpose of this notebook is to gather school road lat/lon points and relative bearing. These points provide a way to find street-level imagery from roads around schools.\n",
    "\n",
    "The data collected by this notebook will later be used to determine whether specific segments of roads are near a school and if they are, to further analyze whether those roads have street-level signage indicating and warning drivers about the school zone. This data in turn is used to help automatically determine the iRAP 5-star attribute code for school signage.\n",
    "\n",
    "## Imported Data\n",
    "\n",
    "The assumption is that incoming data will be in .shp format and include Shapely linestring geometry for roads around schools\n",
    "\n",
    "## Exported Data\n",
    "\n",
    "Data exported from this notebook will be in parquet format and will eventually be used outside of this task."
   ]
  },
  {
   "cell_type": "code",
   "execution_count": 1,
   "metadata": {
    "tags": [
     "parameters"
    ]
   },
   "outputs": [],
   "source": [
    "# Parameters cell used to indicate parameters which will be used at runtime.\n",
    "# Note: the below is a default parameter value which is overridden when the\n",
    "# notebook is executed as part of a pipeline via Prefect + Papermill\n",
    "\n",
    "name = \"usa\"\n",
    "link = \"https://nces.ed.gov/programs/edge/data/EDGE_GEOCODE_PUBLICSCH_1819.zip\"\n",
    "unzip = True\n",
    "target = \"EDGE_GEOCODE_PUBLICSCH_1819.xlsx\"\n",
    "lat_colname = \"LAT\"\n",
    "lon_colname = \"LON\""
   ]
  },
  {
   "cell_type": "code",
   "execution_count": 2,
   "metadata": {},
   "outputs": [],
   "source": [
    "import os\n",
    "\n",
    "import geopandas as gpd\n",
    "import networkx as nx\n",
    "import numpy as np\n",
    "import osmnx as ox\n",
    "import pandas as pd\n",
    "import shapely\n",
    "import shapely.ops as sp_ops\n",
    "from pyproj import Proj, Transformer\n",
    "from shapely.geometry import LinearRing, LineString\n",
    "\n",
    "ox.config(log_console=True, log_level=10, use_cache=True)"
   ]
  },
  {
   "cell_type": "code",
   "execution_count": 3,
   "metadata": {},
   "outputs": [],
   "source": [
    "# ref https://gis.stackexchange.com/questions/372912/how-to-densify-linestring-vertices-in-shapely-geopandas\n",
    "def densify_geometry (line_geometry, step, crs=None):\n",
    "\n",
    "    # crs: epsg code of a coordinate reference system you want your line to be georeferenced with\n",
    "    # step: add a vertice every step in whatever unit your coordinate reference system use.\n",
    "\n",
    "    length_m=line_geometry.length # get the length\n",
    "\n",
    "    xy=[] # to store new tuples of coordinates\n",
    "\n",
    "    # changed to not use casted int for length_m\n",
    "    for distance_along_old_line in np.arange(0,length_m,step): \n",
    "\n",
    "        point = line_geometry.interpolate(distance_along_old_line) # interpolate a point every step along the old line\n",
    "        xp,yp = point.x, point.y # extract the coordinates\n",
    "        \n",
    "        xy.append((xp,yp)) # and store them in xy list\n",
    "\n",
    "    #new_line=LineString(xy) # Here, we finally create a new line with densified points.\n",
    "\n",
    "    if crs != None:  #  If you want to georeference your new geometry, uses crs to do the job.\n",
    "        new_line_geo=gpd.geoseries.GeoSeries(new_line,crs=crs) \n",
    "        return new_line_geo\n",
    "\n",
    "    else:\n",
    "        return xy"
   ]
  },
  {
   "cell_type": "code",
   "execution_count": 4,
   "metadata": {},
   "outputs": [],
   "source": [
    "def gather_road_points(gdf: gpd.GeoDataFrame) -> pd.DataFrame:\n",
    "    \n",
    "    # gather road latlon tuples based on road geometry linestring coords\n",
    "    lats = []\n",
    "    lons = []\n",
    "    road_names = []\n",
    "    road_lengths = []\n",
    "    bearings = []\n",
    "    for index, rrow in gdf[\n",
    "        ~(gdf[\"geometry\"].isna()) & ~(gdf[\"highway\"] == \"service\")\n",
    "    ].iterrows():\n",
    "        \n",
    "        densified_points = densify_geometry(rrow[\"geometry\"], step= 0.0002)\n",
    "\n",
    "        if len(densified_points) > 1:\n",
    "            lats += [x[1] for x in densified_points]\n",
    "            lons += [x[0] for x in densified_points]\n",
    "            road_names += [rrow[\"name\"] for x in densified_points]\n",
    "            road_lengths += [rrow[\"length\"] for x in densified_points]\n",
    "\n",
    "            for x in range(0, len(densified_points)):\n",
    "\n",
    "                # calculate bearings of the road\n",
    "                if x == 0:\n",
    "                    # if we're at the beginning of the road linestring,\n",
    "                    # reverse the bearing source and targ to keep uniform bearings for data\n",
    "                    bearing = ox.bearing.get_bearing(densified_points[x+1],densified_points[x])\n",
    "                else:\n",
    "                    bearing = ox.bearing.get_bearing(densified_points[x],densified_points[x-1])\n",
    "\n",
    "                bearings.append(bearing)\n",
    "                                             \n",
    "    # create a dataframe to encapsulate data gathered above\n",
    "    school_road_points_df = pd.DataFrame.from_dict({\n",
    "            \"road_name\": road_names, \n",
    "            \"lon\": lons, \n",
    "            \"lat\": lats, \n",
    "            \"road_length\": road_lengths,\n",
    "            \"bearing\":bearings\n",
    "        }\n",
    "    )\n",
    "    \n",
    "    return school_road_points_df"
   ]
  },
  {
   "cell_type": "code",
   "execution_count": 5,
   "metadata": {},
   "outputs": [],
   "source": [
    "# read the shape file with road linestrings\n",
    "gdf = gpd.read_parquet(\"{}/data/{}_school_roads.parquet\".format(os.getcwd(), name))"
   ]
  },
  {
   "cell_type": "code",
   "execution_count": 6,
   "metadata": {},
   "outputs": [
    {
     "data": {
      "text/html": [
       "<div>\n",
       "<style scoped>\n",
       "    .dataframe tbody tr th:only-of-type {\n",
       "        vertical-align: middle;\n",
       "    }\n",
       "\n",
       "    .dataframe tbody tr th {\n",
       "        vertical-align: top;\n",
       "    }\n",
       "\n",
       "    .dataframe thead th {\n",
       "        text-align: right;\n",
       "    }\n",
       "</style>\n",
       "<table border=\"1\" class=\"dataframe\">\n",
       "  <thead>\n",
       "    <tr style=\"text-align: right;\">\n",
       "      <th></th>\n",
       "      <th>road_name</th>\n",
       "      <th>lon</th>\n",
       "      <th>lat</th>\n",
       "      <th>road_length</th>\n",
       "      <th>bearing</th>\n",
       "    </tr>\n",
       "  </thead>\n",
       "  <tbody>\n",
       "    <tr>\n",
       "      <th>0</th>\n",
       "      <td>West Monroe Street</td>\n",
       "      <td>-87.679069</td>\n",
       "      <td>41.879973</td>\n",
       "      <td>200.845</td>\n",
       "      <td>0.037247</td>\n",
       "    </tr>\n",
       "    <tr>\n",
       "      <th>1</th>\n",
       "      <td>West Monroe Street</td>\n",
       "      <td>-87.679269</td>\n",
       "      <td>41.879970</td>\n",
       "      <td>200.845</td>\n",
       "      <td>0.037247</td>\n",
       "    </tr>\n",
       "    <tr>\n",
       "      <th>2</th>\n",
       "      <td>West Monroe Street</td>\n",
       "      <td>-87.679469</td>\n",
       "      <td>41.879967</td>\n",
       "      <td>200.845</td>\n",
       "      <td>0.037244</td>\n",
       "    </tr>\n",
       "    <tr>\n",
       "      <th>3</th>\n",
       "      <td>West Monroe Street</td>\n",
       "      <td>-87.679669</td>\n",
       "      <td>41.879963</td>\n",
       "      <td>200.845</td>\n",
       "      <td>0.037241</td>\n",
       "    </tr>\n",
       "    <tr>\n",
       "      <th>4</th>\n",
       "      <td>West Monroe Street</td>\n",
       "      <td>-87.679869</td>\n",
       "      <td>41.879960</td>\n",
       "      <td>200.845</td>\n",
       "      <td>0.037224</td>\n",
       "    </tr>\n",
       "  </tbody>\n",
       "</table>\n",
       "</div>"
      ],
      "text/plain": [
       "            road_name        lon        lat  road_length   bearing\n",
       "0  West Monroe Street -87.679069  41.879973      200.845  0.037247\n",
       "1  West Monroe Street -87.679269  41.879970      200.845  0.037247\n",
       "2  West Monroe Street -87.679469  41.879967      200.845  0.037244\n",
       "3  West Monroe Street -87.679669  41.879963      200.845  0.037241\n",
       "4  West Monroe Street -87.679869  41.879960      200.845  0.037224"
      ]
     },
     "execution_count": 6,
     "metadata": {},
     "output_type": "execute_result"
    }
   ],
   "source": [
    "# gather the densified road points\n",
    "df = gather_road_points(gdf=gdf)\n",
    "df.head()"
   ]
  },
  {
   "cell_type": "code",
   "execution_count": 10,
   "metadata": {},
   "outputs": [
    {
     "name": "stdout",
     "output_type": "stream",
     "text": [
      "<class 'pandas.core.frame.DataFrame'>\n",
      "RangeIndex: 215 entries, 0 to 214\n",
      "Data columns (total 5 columns):\n",
      " #   Column       Non-Null Count  Dtype  \n",
      "---  ------       --------------  -----  \n",
      " 0   road_name    215 non-null    object \n",
      " 1   lon          215 non-null    float64\n",
      " 2   lat          215 non-null    float64\n",
      " 3   road_length  215 non-null    float64\n",
      " 4   bearing      215 non-null    float64\n",
      "dtypes: float64(4), object(1)\n",
      "memory usage: 8.5+ KB\n"
     ]
    }
   ],
   "source": [
    "df.info()"
   ]
  },
  {
   "cell_type": "code",
   "execution_count": 12,
   "metadata": {},
   "outputs": [
    {
     "data": {
      "text/plain": [
       "<AxesSubplot:title={'center':'Road Lat/Lon Around School'}, xlabel='lon', ylabel='lat'>"
      ]
     },
     "execution_count": 12,
     "metadata": {},
     "output_type": "execute_result"
    },
    {
     "data": {
      "image/png": "[encoded data removed]",
      "text/plain": [
       "<Figure size 864x864 with 1 Axes>"
      ]
     },
     "metadata": {
      "needs_background": "light"
     },
     "output_type": "display_data"
    }
   ],
   "source": [
    "# create a plot for quick sketch of points involved\n",
    "df.head(500)[[\"lat\", \"lon\"]].plot(\n",
    "    kind=\"scatter\",\n",
    "    x=\"lon\",\n",
    "    y=\"lat\",\n",
    "    figsize=(12, 12),\n",
    "    title=\"Road Lat/Lon Around School\",\n",
    ")"
   ]
  },
  {
   "cell_type": "code",
   "execution_count": 13,
   "metadata": {},
   "outputs": [],
   "source": [
    "df.to_parquet(\"{}/data/{}_school_road_points.parquet\".format(os.getcwd(), name), index=False)"
   ]
  }
 ],
 "metadata": {
  "kernelspec": {
   "display_name": "Python 3",
   "language": "python",
   "name": "python3"
  },
  "language_info": {
   "codemirror_mode": {
    "name": "ipython",
    "version": 3
   },
   "file_extension": ".py",
   "mimetype": "text/x-python",
   "name": "python",
   "nbconvert_exporter": "python",
   "pygments_lexer": "ipython3",
   "version": "3.7.6"
  }
 },
 "nbformat": 4,
 "nbformat_minor": 4
}
