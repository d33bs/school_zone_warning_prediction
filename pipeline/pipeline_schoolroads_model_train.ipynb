{
 "cells": [
  {
   "cell_type": "markdown",
   "metadata": {},
   "source": [
    "# Pipeline - School Roads - Model Train\n",
    "\n",
    "The purpose of this notebook is to train an image recognition model for use in detecting school warning signage on roads near schools.\n",
    "\n",
    "This notebook is part of a larger series of other notebooks which are orchestrated using the \"pipeline_schoolroads.ipynb\" notebook found under <this repo>/task7-feature-extraction-using-aerial-level-data/code/pipeline directory.\n",
    "\n",
    "## Imported Data\n",
    "\n",
    "Training data will be required under the specified directories found in the code. See the code itself for more details.\n",
    "\n",
    "## Exported Data\n",
    "\n",
    "This notebook produces a trained model which is ready for predictive functions with street-level images."
   ]
  },
  {
   "cell_type": "code",
   "execution_count": 1,
   "metadata": {
    "tags": [
     "parameters"
    ]
   },
   "outputs": [],
   "source": [
    "# Parameters cell used to indicate parameters which will be used at runtime.\n",
    "# Note: the below is a default parameter value which is overridden when the\n",
    "# notebook is executed as part of a pipeline via Prefect + Papermill\n",
    "\n",
    "name = \"usa\"\n",
    "link = \"https://nces.ed.gov/programs/edge/data/EDGE_GEOCODE_PUBLICSCH_1819.zip\"\n",
    "unzip = True\n",
    "target = \"EDGE_GEOCODE_PUBLICSCH_1819.xlsx\"\n",
    "lat_colname = \"LAT\"\n",
    "lon_colname = \"LON\""
   ]
  },
  {
   "cell_type": "code",
   "execution_count": 2,
   "metadata": {},
   "outputs": [],
   "source": [
    "import os\n",
    "\n",
    "from imageai.Prediction.Custom import ModelTraining"
   ]
  },
  {
   "cell_type": "code",
   "execution_count": 3,
   "metadata": {},
   "outputs": [],
   "source": [
    "# custom training prep\n",
    "# https://imageai.readthedocs.io/en/latest/custom/index.html\n",
    "\n",
    "model_trainer = ModelTraining()\n",
    "\n",
    "model_trainer.setModelTypeAsResNet50()\n",
    "\n",
    "model_trainer.setDataDirectory(\n",
    "    data_directory=\"{}/data/schools/resnet\".format(os.getcwd())\n",
    ")"
   ]
  },
  {
   "cell_type": "code",
   "execution_count": null,
   "metadata": {},
   "outputs": [],
   "source": [
    "# train model\n",
    "model_trainer.trainModel(\n",
    "    num_objects=2,\n",
    "    num_experiments=20,\n",
    "    enhance_data=True,\n",
    "    batch_size=4,\n",
    "    show_network_summary=False,\n",
    ")"
   ]
  }
 ],
 "metadata": {
  "kernelspec": {
   "display_name": "Python 3",
   "language": "python",
   "name": "python3"
  },
  "language_info": {
   "codemirror_mode": {
    "name": "ipython",
    "version": 3
   },
   "file_extension": ".py",
   "mimetype": "text/x-python",
   "name": "python",
   "nbconvert_exporter": "python",
   "pygments_lexer": "ipython3",
   "version": "3.7.6"
  }
 },
 "nbformat": 4,
 "nbformat_minor": 4
}
