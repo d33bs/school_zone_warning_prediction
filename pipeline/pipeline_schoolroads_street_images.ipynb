{
 "cells": [
  {
   "cell_type": "markdown",
   "metadata": {},
   "source": [
    "# Pipeline - School Roads - Street Images\n",
    "\n",
    "The purpose of this notebook is to use pre-gathered lat/lon + bearing points from roads around schools to gather street-level images. These images will in turn be used to determine whether school warning signage and lighting are present around those schools. This data in turn is used to help automatically determine the iRAP 5-star attribute code for school signage.\n",
    "\n",
    "This notebook is part of a larger series of other notebooks which are orchestrated using the \"pipeline_schoolroads.ipynb\" notebook found under <this repo>/task7-feature-extraction-using-aerial-level-data/code/pipeline directory.\n",
    "\n",
    "## Imported Data\n",
    "\n",
    "The assumption is that incoming data will be in parquet format and include colunms indicating latitude, longitude, and bearing for use in gathering street-level images.\n",
    "\n",
    "## Exported Data\n",
    "\n",
    "Data exported by this notebook will assume the format of .jpg images with a naming format of <lat>_<lon>_<bearing>.jpg."
   ]
  },
  {
   "cell_type": "code",
   "execution_count": 9,
   "metadata": {
    "tags": [
     "parameters"
    ]
   },
   "outputs": [],
   "source": [
    "# Parameters cell used to indicate parameters which will be used at runtime.\n",
    "# Note: the below is a default parameter value which is overridden when the\n",
    "# notebook is executed as part of a pipeline via Prefect + Papermill\n",
    "\n",
    "name = \"usa\"\n",
    "link = \"https://nces.ed.gov/programs/edge/data/EDGE_GEOCODE_PUBLICSCH_1819.zip\"\n",
    "unzip = True\n",
    "target = \"EDGE_GEOCODE_PUBLICSCH_1819.xlsx\"\n",
    "lat_colname = \"LAT\"\n",
    "lon_colname = \"LON\"\n",
    "credentials = {}"
   ]
  },
  {
   "cell_type": "code",
   "execution_count": 10,
   "metadata": {},
   "outputs": [],
   "source": [
    "import os\n",
    "\n",
    "import google_streetview.api\n",
    "import google_streetview.helpers\n",
    "import pandas as pd\n",
    "import requests\n",
    "from box import Box\n",
    "from IPython.display import Image"
   ]
  },
  {
   "cell_type": "code",
   "execution_count": 11,
   "metadata": {},
   "outputs": [
    {
     "name": "stdout",
     "output_type": "stream",
     "text": [
      "<class 'pandas.core.frame.DataFrame'>\n",
      "RangeIndex: 215 entries, 0 to 214\n",
      "Data columns (total 5 columns):\n",
      " #   Column       Non-Null Count  Dtype  \n",
      "---  ------       --------------  -----  \n",
      " 0   road_name    215 non-null    object \n",
      " 1   lon          215 non-null    float64\n",
      " 2   lat          215 non-null    float64\n",
      " 3   road_length  215 non-null    float64\n",
      " 4   bearing      215 non-null    float64\n",
      "dtypes: float64(4), object(1)\n",
      "memory usage: 8.5+ KB\n"
     ]
    }
   ],
   "source": [
    "# read in our source school data\n",
    "df = pd.read_parquet(\"{}/data/{}_school_road_points.parquet\".format(os.getcwd(), name))\n",
    "df.info()"
   ]
  },
  {
   "cell_type": "code",
   "execution_count": 12,
   "metadata": {},
   "outputs": [],
   "source": [
    "# attempt to gather gstreetview results\n",
    "def gather_google_streetview_meta(lat, lon, bearing, creds):\n",
    "    try:\n",
    "        params = [\n",
    "            {\n",
    "                \"size\": \"640x640\",  # max 640x640 pixels\n",
    "                \"location\": \"{lat},{lon}\".format(lat=lat, lon=lon),\n",
    "                \"heading\": str(bearing),\n",
    "                \"key\": creds,\n",
    "            }\n",
    "        ]\n",
    "\n",
    "        # Create a results object\n",
    "        results = google_streetview.api.results(params)\n",
    "        # only append to list if result status was ok\n",
    "        if results.metadata[0][\"status\"] == \"OK\":\n",
    "            return results\n",
    "    except:\n",
    "        return pd.NA"
   ]
  },
  {
   "cell_type": "code",
   "execution_count": 13,
   "metadata": {},
   "outputs": [],
   "source": [
    "# work with limited subset because of personal google credentials limitation\n",
    "# note: remove this block in the future\n",
    "df = df[:100].copy()"
   ]
  },
  {
   "cell_type": "code",
   "execution_count": 14,
   "metadata": {},
   "outputs": [
    {
     "data": {
      "text/plain": [
       "0    <google_streetview.api.results object at 0x000...\n",
       "1    <google_streetview.api.results object at 0x000...\n",
       "2    <google_streetview.api.results object at 0x000...\n",
       "3    <google_streetview.api.results object at 0x000...\n",
       "4    <google_streetview.api.results object at 0x000...\n",
       "Name: google_streetview_meta, dtype: object"
      ]
     },
     "execution_count": 14,
     "metadata": {},
     "output_type": "execute_result"
    }
   ],
   "source": [
    "df[\"google_streetview_meta\"] = df.apply(\n",
    "    lambda row: gather_google_streetview_meta(\n",
    "        row[\"lat\"], row[\"lon\"], row[\"bearing\"], credentials[\"google\"][\"key\"]\n",
    "    ),\n",
    "    axis=1,\n",
    ")\n",
    "df[\"google_streetview_meta\"].head()"
   ]
  },
  {
   "cell_type": "code",
   "execution_count": 15,
   "metadata": {},
   "outputs": [],
   "source": [
    "# make a data dir for dumping the image downloads to per data source\n",
    "data_dir = \"{}/data/{}_schoolroads_street_images\".format(os.getcwd(), name)\n",
    "if not os.path.isdir(data_dir):\n",
    "    os.mkdir(data_dir)"
   ]
  },
  {
   "cell_type": "code",
   "execution_count": 16,
   "metadata": {},
   "outputs": [],
   "source": [
    "# download images using results from meta lookups\n",
    "def download_google_streetview_image(google_streetview_api_results, data_dir):\n",
    "\n",
    "    if google_streetview_api_results.metadata[0][\"status\"] != \"OK\":\n",
    "        return None\n",
    "\n",
    "    else:\n",
    "        url = google_streetview_api_results.links[0]\n",
    "\n",
    "        # use filename format lat_lon_bearing.jpg\n",
    "        filename = \"{}_{}.jpg\".format(\n",
    "            google_streetview_api_results.params[0][\"location\"].replace(\",\", \"_\"),\n",
    "            google_streetview_api_results.params[0][\"heading\"],\n",
    "        )\n",
    "        filepath = \"{}/{}\".format(data_dir, filename)\n",
    "\n",
    "        # only download files if we don't already have them to conserve requests with Google acct\n",
    "        if not os.path.isfile(filepath):\n",
    "            # get image from url\n",
    "            img_data = requests.get(url).content\n",
    "\n",
    "            # write image to filepath\n",
    "            with open(filepath, \"wb\") as handler:\n",
    "                handler.write(img_data)\n",
    "\n",
    "        return filepath"
   ]
  },
  {
   "cell_type": "code",
   "execution_count": null,
   "metadata": {},
   "outputs": [],
   "source": [
    "df[\"google_streetview_image\"] = df.apply(\n",
    "    lambda row: download_google_streetview_image(\n",
    "        row[\"google_streetview_meta\"], data_dir\n",
    "    )\n",
    "    if row[\"google_streetview_meta\"] != None\n",
    "    else None,\n",
    "    axis=1,\n",
    ")\n",
    "df[\"google_streetview_image\"].head()"
   ]
  },
  {
   "cell_type": "code",
   "execution_count": 18,
   "metadata": {},
   "outputs": [
    {
     "data": {
      "text/plain": [
       "197"
      ]
     },
     "execution_count": 18,
     "metadata": {},
     "output_type": "execute_result"
    }
   ],
   "source": [
    "# show a count for the number of files in the data_dir\n",
    "len(\n",
    "    [\n",
    "        name\n",
    "        for name in os.listdir(data_dir)\n",
    "        if os.path.isfile(\"{}/{}\".format(data_dir, name))\n",
    "    ]\n",
    ")"
   ]
  },
  {
   "cell_type": "code",
   "execution_count": 19,
   "metadata": {},
   "outputs": [],
   "source": [
    "df.drop(columns=\"google_streetview_meta\").to_parquet(\n",
    "    \"{}/data/{}_school_road_points_streetview.parquet\".format(os.getcwd(), name)\n",
    ")"
   ]
  }
 ],
 "metadata": {
  "kernelspec": {
   "display_name": "Python 3",
   "language": "python",
   "name": "python3"
  },
  "language_info": {
   "codemirror_mode": {
    "name": "ipython",
    "version": 3
   },
   "file_extension": ".py",
   "mimetype": "text/x-python",
   "name": "python",
   "nbconvert_exporter": "python",
   "pygments_lexer": "ipython3",
   "version": "3.7.6"
  }
 },
 "nbformat": 4,
 "nbformat_minor": 4
}
