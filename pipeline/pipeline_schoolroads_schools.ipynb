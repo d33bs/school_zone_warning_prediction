{
 "cells": [
  {
   "cell_type": "markdown",
   "metadata": {},
   "source": [
    "# Pipeline - School Roads - Schools\n",
    "\n",
    "The purpose of this notebook is to gather relative locations of schools in a standardized format for later use in a pipeline. These points provide a general location of schools within a particular region. Because this data may come from various sources, the assumption of this notebook is that each row of data provided has a column indicating the latitude and longitude. This point is a relative location for a larger \"polygon\" that represents the space by which roads may be near.\n",
    "\n",
    "The data collected by this notebook will later be used to determine whether specific segments of roads are near a school and if they are, to further analyze whether those roads have street-level signage indicating and warning drivers about the school zone. This data in turn is used to help automatically determine the iRAP 5-star attribute code for school signage.\n",
    "\n",
    "## Imported Data\n",
    "\n",
    "The assumption is that incoming data will include attributes found in the \"parameters\" cell below.\n",
    "\n",
    "## Exported Data\n",
    "\n",
    "Data will be in parquet format and include at least columns for \"lat\" (latitude) and \"lon\" (longitude)"
   ]
  },
  {
   "cell_type": "code",
   "execution_count": 1,
   "metadata": {},
   "outputs": [],
   "source": [
    "import os\n",
    "import zipfile\n",
    "\n",
    "import pandas as pd\n",
    "import requests"
   ]
  },
  {
   "cell_type": "code",
   "execution_count": 2,
   "metadata": {
    "tags": [
     "parameters"
    ]
   },
   "outputs": [],
   "source": [
    "# Parameters cell used to indicate parameters which will be used at runtime.\n",
    "# Note: the below is a default parameter value which is overridden when the\n",
    "# notebook is executed as part of a pipeline via Prefect + Papermill\n",
    "\n",
    "name = \"usa\"\n",
    "link = \"https://nces.ed.gov/programs/edge/data/EDGE_GEOCODE_PUBLICSCH_1819.zip\"\n",
    "unzip = True\n",
    "target = \"EDGE_GEOCODE_PUBLICSCH_1819.xlsx\"\n",
    "lat_colname = \"LAT\"\n",
    "lon_colname = \"LON\""
   ]
  },
  {
   "cell_type": "code",
   "execution_count": 3,
   "metadata": {},
   "outputs": [],
   "source": [
    "# create a data subdir if it doesn't exist\n",
    "if not os.path.isdir(\"{}/data\".format(os.getcwd())):\n",
    "    os.mkdir(\"{}/data\".format(os.getcwd()))"
   ]
  },
  {
   "cell_type": "code",
   "execution_count": 4,
   "metadata": {},
   "outputs": [],
   "source": [
    "# download file\n",
    "if not os.path.isfile(\"{}/data/{}\".format(os.getcwd(), os.path.basename(target))):\n",
    "    getfile = requests.get(link)\n",
    "    if getfile.status_code == 200:\n",
    "        with open(\n",
    "            \"{}/data/{}\".format(os.getcwd(), os.path.basename(link)), \"wb\"\n",
    "        ) as f:\n",
    "            f.write(getfile.content)"
   ]
  },
  {
   "cell_type": "code",
   "execution_count": 5,
   "metadata": {},
   "outputs": [],
   "source": [
    "# unzip if necessary\n",
    "if unzip and not os.path.isfile(\n",
    "    \"{}/data/{}\".format(os.getcwd(), os.path.basename(target))\n",
    "):\n",
    "    with zipfile.ZipFile(\n",
    "        \"{}/data/{}\".format(os.getcwd(), os.path.basename(link)), \"r\"\n",
    "    ) as zip_ref:\n",
    "        zip_ref.extractall(\"{}/data\".format(os.getcwd()))"
   ]
  },
  {
   "cell_type": "code",
   "execution_count": 6,
   "metadata": {},
   "outputs": [],
   "source": [
    "# read target file into dataframe\n",
    "if os.path.splitext(target)[1] == \".xlsx\":\n",
    "    df = pd.read_excel(\"{}/data/{}\".format(os.getcwd(), target))\n",
    "elif os.path.splitext(target)[1] == \".csv\":\n",
    "    df = pd.read_csv(\"{}/data/{}\".format(os.getcwd(), target))"
   ]
  },
  {
   "cell_type": "code",
   "execution_count": 7,
   "metadata": {},
   "outputs": [],
   "source": [
    "# rename the columns to standardize the pipeline\n",
    "df = df.rename(columns={lat_colname: \"lat\", lon_colname: \"lon\"})"
   ]
  },
  {
   "cell_type": "code",
   "execution_count": 15,
   "metadata": {},
   "outputs": [],
   "source": [
    "# target individual city, top 5 results for testing purposes\n",
    "df = df[df[\"CITY\"] == \"Chicago\"].head(5)"
   ]
  },
  {
   "cell_type": "code",
   "execution_count": 16,
   "metadata": {},
   "outputs": [],
   "source": [
    "# export to parquet\n",
    "df.to_parquet(\"{}/data/{}_schools.parquet\".format(os.getcwd(), name), index=False)"
   ]
  }
 ],
 "metadata": {
  "kernelspec": {
   "display_name": "Python 3",
   "language": "python",
   "name": "python3"
  },
  "language_info": {
   "codemirror_mode": {
    "name": "ipython",
    "version": 3
   },
   "file_extension": ".py",
   "mimetype": "text/x-python",
   "name": "python",
   "nbconvert_exporter": "python",
   "pygments_lexer": "ipython3",
   "version": "3.7.6"
  }
 },
 "nbformat": 4,
 "nbformat_minor": 4
}
