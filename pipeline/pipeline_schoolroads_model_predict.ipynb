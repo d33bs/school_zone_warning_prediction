{
 "cells": [
  {
   "cell_type": "markdown",
   "metadata": {},
   "source": [
    "# Pipeline - School Roads - Model Predict\n",
    "\n",
    "The purpose of this notebook is to use a pre-trained image recognition model for use in detecting school warning signage on roads near schools.\n",
    "\n",
    "This notebook is part of a larger series of other notebooks which are orchestrated using the \"pipeline_schoolroads.ipynb\" notebook found under <this repo>/task7-feature-extraction-using-aerial-level-data/code/pipeline directory.\n",
    "\n",
    "## Imported Data\n",
    "\n",
    "A trained model which is ready for predictive functions with street-level images.\n",
    "\n",
    "## Exported Data\n",
    "\n",
    "Data indicating whether school signage was found at image locations."
   ]
  },
  {
   "cell_type": "code",
   "execution_count": 1,
   "metadata": {
    "tags": [
     "parameters"
    ]
   },
   "outputs": [],
   "source": [
    "# Parameters cell used to indicate parameters which will be used at runtime.\n",
    "# Note: the below is a default parameter value which is overridden when the\n",
    "# notebook is executed as part of a pipeline via Prefect + Papermill\n",
    "\n",
    "name = \"usa\"\n",
    "link = \"https://nces.ed.gov/programs/edge/data/EDGE_GEOCODE_PUBLICSCH_1819.zip\"\n",
    "unzip = True\n",
    "target = \"EDGE_GEOCODE_PUBLICSCH_1819.xlsx\"\n",
    "lat_colname = \"LAT\"\n",
    "lon_colname = \"LON\""
   ]
  },
  {
   "cell_type": "code",
   "execution_count": 2,
   "metadata": {},
   "outputs": [],
   "source": [
    "import glob\n",
    "import os\n",
    "\n",
    "import pandas as pd\n",
    "from imageai.Classification.Custom import CustomImageClassification"
   ]
  },
  {
   "cell_type": "code",
   "execution_count": 3,
   "metadata": {},
   "outputs": [
    {
     "name": "stdout",
     "output_type": "stream",
     "text": [
      "<class 'pandas.core.frame.DataFrame'>\n",
      "RangeIndex: 100 entries, 0 to 99\n",
      "Data columns (total 6 columns):\n",
      " #   Column                   Non-Null Count  Dtype  \n",
      "---  ------                   --------------  -----  \n",
      " 0   road_name                100 non-null    object \n",
      " 1   lon                      100 non-null    float64\n",
      " 2   lat                      100 non-null    float64\n",
      " 3   road_length              100 non-null    float64\n",
      " 4   bearing                  100 non-null    float64\n",
      " 5   google_streetview_image  100 non-null    object \n",
      "dtypes: float64(4), object(2)\n",
      "memory usage: 4.8+ KB\n"
     ]
    }
   ],
   "source": [
    "df = pd.read_parquet(\n",
    "    \"{}/data/{}_school_road_points_streetview.parquet\".format(os.getcwd(), name)\n",
    ")\n",
    "df.info()"
   ]
  },
  {
   "cell_type": "code",
   "execution_count": 4,
   "metadata": {},
   "outputs": [
    {
     "data": {
      "text/html": [
       "<div>\n",
       "<style scoped>\n",
       "    .dataframe tbody tr th:only-of-type {\n",
       "        vertical-align: middle;\n",
       "    }\n",
       "\n",
       "    .dataframe tbody tr th {\n",
       "        vertical-align: top;\n",
       "    }\n",
       "\n",
       "    .dataframe thead th {\n",
       "        text-align: right;\n",
       "    }\n",
       "</style>\n",
       "<table border=\"1\" class=\"dataframe\">\n",
       "  <thead>\n",
       "    <tr style=\"text-align: right;\">\n",
       "      <th></th>\n",
       "      <th>road_name</th>\n",
       "      <th>lon</th>\n",
       "      <th>lat</th>\n",
       "      <th>road_length</th>\n",
       "      <th>bearing</th>\n",
       "      <th>google_streetview_image</th>\n",
       "    </tr>\n",
       "  </thead>\n",
       "  <tbody>\n",
       "  </tbody>\n",
       "</table>\n",
       "</div>"
      ],
      "text/plain": [
       "Empty DataFrame\n",
       "Columns: [road_name, lon, lat, road_length, bearing, google_streetview_image]\n",
       "Index: []"
      ]
     },
     "execution_count": 4,
     "metadata": {},
     "output_type": "execute_result"
    }
   ],
   "source": [
    "df[df[\"google_streetview_image\"].isna()]"
   ]
  },
  {
   "cell_type": "code",
   "execution_count": 5,
   "metadata": {},
   "outputs": [
    {
     "data": {
      "text/plain": [
       "'model_ex-008_acc-1.000000.h5'"
      ]
     },
     "execution_count": 5,
     "metadata": {},
     "output_type": "execute_result"
    }
   ],
   "source": [
    "# get latest file from models created\n",
    "list_of_files = glob.glob(\"{}/data/schools/resnet/models/*\".format(os.getcwd()))\n",
    "latest_file = max(list_of_files, key=os.path.getmtime)\n",
    "os.path.basename(latest_file)"
   ]
  },
  {
   "cell_type": "code",
   "execution_count": 6,
   "metadata": {},
   "outputs": [],
   "source": [
    "# custom model load\n",
    "# https://imageai.readthedocs.io/en/latest/custom/index.html\n",
    "\n",
    "prediction_model = CustomImageClassification()\n",
    "\n",
    "prediction_model.setModelTypeAsResNet50()\n",
    "\n",
    "prediction_model.setModelPath(latest_file)\n",
    "\n",
    "prediction_model.setJsonPath(\n",
    "    \"{}/data/schools/resnet/json/model_class.json\".format(os.getcwd())\n",
    ")\n",
    "\n",
    "prediction_model.loadModel(num_objects=2)"
   ]
  },
  {
   "cell_type": "code",
   "execution_count": 7,
   "metadata": {},
   "outputs": [],
   "source": [
    "# define function for apply to predict on dataframe data\n",
    "def gather_predictions(row, prediction_model):\n",
    "    predict, probability = prediction_model.classifyImage(\n",
    "        row[\"google_streetview_image\"], result_count=1\n",
    "    )\n",
    "    row[\"schoolsign_prediction\"] = predict[0]\n",
    "    row[\"schoolsign_prediction_prob\"] = probability[0]\n",
    "    return row"
   ]
  },
  {
   "cell_type": "code",
   "execution_count": 8,
   "metadata": {},
   "outputs": [
    {
     "data": {
      "text/html": [
       "<div>\n",
       "<style scoped>\n",
       "    .dataframe tbody tr th:only-of-type {\n",
       "        vertical-align: middle;\n",
       "    }\n",
       "\n",
       "    .dataframe tbody tr th {\n",
       "        vertical-align: top;\n",
       "    }\n",
       "\n",
       "    .dataframe thead th {\n",
       "        text-align: right;\n",
       "    }\n",
       "</style>\n",
       "<table border=\"1\" class=\"dataframe\">\n",
       "  <thead>\n",
       "    <tr style=\"text-align: right;\">\n",
       "      <th></th>\n",
       "      <th>schoolsign_prediction</th>\n",
       "      <th>schoolsign_prediction_prob</th>\n",
       "    </tr>\n",
       "  </thead>\n",
       "  <tbody>\n",
       "    <tr>\n",
       "      <th>0</th>\n",
       "      <td>schoolsign</td>\n",
       "      <td>100.0</td>\n",
       "    </tr>\n",
       "    <tr>\n",
       "      <th>1</th>\n",
       "      <td>schoolsign</td>\n",
       "      <td>100.0</td>\n",
       "    </tr>\n",
       "    <tr>\n",
       "      <th>2</th>\n",
       "      <td>schoolsign</td>\n",
       "      <td>100.0</td>\n",
       "    </tr>\n",
       "    <tr>\n",
       "      <th>3</th>\n",
       "      <td>schoolsign</td>\n",
       "      <td>100.0</td>\n",
       "    </tr>\n",
       "    <tr>\n",
       "      <th>4</th>\n",
       "      <td>schoolsign</td>\n",
       "      <td>100.0</td>\n",
       "    </tr>\n",
       "  </tbody>\n",
       "</table>\n",
       "</div>"
      ],
      "text/plain": [
       "  schoolsign_prediction  schoolsign_prediction_prob\n",
       "0            schoolsign                       100.0\n",
       "1            schoolsign                       100.0\n",
       "2            schoolsign                       100.0\n",
       "3            schoolsign                       100.0\n",
       "4            schoolsign                       100.0"
      ]
     },
     "execution_count": 8,
     "metadata": {},
     "output_type": "execute_result"
    }
   ],
   "source": [
    "# use model to predict on list of images via apply\n",
    "df = df.apply(\n",
    "    lambda x: gather_predictions(x, prediction_model)\n",
    "    if x[\"google_streetview_image\"] != None\n",
    "    else x,\n",
    "    axis=1,\n",
    ")\n",
    "df[[\"schoolsign_prediction\", \"schoolsign_prediction_prob\"]].head()"
   ]
  },
  {
   "cell_type": "code",
   "execution_count": 9,
   "metadata": {},
   "outputs": [],
   "source": [
    "# export results for merge\n",
    "df.dropna().to_parquet(\n",
    "    \"{}/data/{}_school_road_points_streetview_predictions.parquet\".format(\n",
    "        os.getcwd(), name\n",
    "    )\n",
    ")"
   ]
  }
 ],
 "metadata": {
  "kernelspec": {
   "display_name": "Python 3",
   "language": "python",
   "name": "python3"
  },
  "language_info": {
   "codemirror_mode": {
    "name": "ipython",
    "version": 3
   },
   "file_extension": ".py",
   "mimetype": "text/x-python",
   "name": "python",
   "nbconvert_exporter": "python",
   "pygments_lexer": "ipython3",
   "version": "3.7.6"
  }
 },
 "nbformat": 4,
 "nbformat_minor": 4
}
